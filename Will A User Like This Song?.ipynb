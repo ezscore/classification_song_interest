{
 "cells": [
  {
   "cell_type": "markdown",
   "metadata": {},
   "source": [
    "# DO YOU LIKE OR DISLIKE THIS SONG? KAGGLE DATASET"
   ]
  },
  {
   "cell_type": "code",
   "execution_count": 1,
   "metadata": {},
   "outputs": [],
   "source": [
    "import pandas as pd\n",
    "import numpy as np \n",
    "import matplotlib.pyplot as plt\n",
    "import seaborn as sns\n",
    "from glob import glob\n",
    "from sklearn.preprocessing import LabelEncoder "
   ]
  },
  {
   "cell_type": "markdown",
   "metadata": {},
   "source": [
    "Capture All CSV Files"
   ]
  },
  {
   "cell_type": "code",
   "execution_count": 2,
   "metadata": {},
   "outputs": [],
   "source": [
    "globbed = glob('*.csv')"
   ]
  },
  {
   "cell_type": "code",
   "execution_count": 3,
   "metadata": {},
   "outputs": [
    {
     "data": {
      "text/plain": [
       "['users.csv',\n",
       " 'test.csv',\n",
       " 'words.csv',\n",
       " 'tracks_mean_benchmark.csv',\n",
       " 'artists_mean_benchmark.csv',\n",
       " 'UserKey.csv',\n",
       " 'train.csv',\n",
       " 'users_mean_benchmark.csv',\n",
       " 'global_mean_benchmark.csv']"
      ]
     },
     "execution_count": 3,
     "metadata": {},
     "output_type": "execute_result"
    }
   ],
   "source": [
    "globbed"
   ]
  },
  {
   "cell_type": "markdown",
   "metadata": {},
   "source": [
    "Convert Files into DataFrames"
   ]
  },
  {
   "cell_type": "code",
   "execution_count": 4,
   "metadata": {},
   "outputs": [
    {
     "name": "stderr",
     "output_type": "stream",
     "text": [
      "/Users/grayangelo/opt/anaconda3/envs/learn-env/lib/python3.6/site-packages/ipykernel_launcher.py:2: ParserWarning: Falling back to the 'python' engine because the 'c' engine does not support regex separators (separators > 1 char and different from '\\s+' are interpreted as regex); you can avoid this warning by specifying engine='python'.\n",
      "  \n"
     ]
    }
   ],
   "source": [
    "train_df =pd.read_csv('train.csv')\n",
    "user_key_df = pd.read_csv('UserKey.csv', sep='delimiter', header=None)\n",
    "users_df = pd.read_csv('users.csv')"
   ]
  },
  {
   "cell_type": "markdown",
   "metadata": {},
   "source": [
    "# Data Cleaning"
   ]
  },
  {
   "cell_type": "code",
   "execution_count": 5,
   "metadata": {},
   "outputs": [],
   "source": [
    "unique_train = train_df.drop_duplicates(subset='User', keep='first')"
   ]
  },
  {
   "cell_type": "code",
   "execution_count": 6,
   "metadata": {},
   "outputs": [
    {
     "name": "stderr",
     "output_type": "stream",
     "text": [
      "/Users/grayangelo/opt/anaconda3/envs/learn-env/lib/python3.6/site-packages/pandas/core/frame.py:4223: SettingWithCopyWarning: \n",
      "A value is trying to be set on a copy of a slice from a DataFrame\n",
      "\n",
      "See the caveats in the documentation: http://pandas.pydata.org/pandas-docs/stable/user_guide/indexing.html#returning-a-view-versus-a-copy\n",
      "  return super().rename(**kwargs)\n"
     ]
    }
   ],
   "source": [
    "#Rename column\n",
    "unique_train.rename(columns={'User': 'RESPID'}, inplace=True)"
   ]
  },
  {
   "cell_type": "markdown",
   "metadata": {},
   "source": [
    "CONVERTED ALL RATINGS > 50, 1 RATINGS < 50, 0"
   ]
  },
  {
   "cell_type": "code",
   "execution_count": 7,
   "metadata": {},
   "outputs": [
    {
     "data": {
      "text/html": [
       "<div>\n",
       "<style scoped>\n",
       "    .dataframe tbody tr th:only-of-type {\n",
       "        vertical-align: middle;\n",
       "    }\n",
       "\n",
       "    .dataframe tbody tr th {\n",
       "        vertical-align: top;\n",
       "    }\n",
       "\n",
       "    .dataframe thead th {\n",
       "        text-align: right;\n",
       "    }\n",
       "</style>\n",
       "<table border=\"1\" class=\"dataframe\">\n",
       "  <thead>\n",
       "    <tr style=\"text-align: right;\">\n",
       "      <th></th>\n",
       "      <th>Artist</th>\n",
       "      <th>Track</th>\n",
       "      <th>RESPID</th>\n",
       "      <th>Rating</th>\n",
       "      <th>Time</th>\n",
       "    </tr>\n",
       "  </thead>\n",
       "  <tbody>\n",
       "    <tr>\n",
       "      <td>0</td>\n",
       "      <td>40</td>\n",
       "      <td>179</td>\n",
       "      <td>47994</td>\n",
       "      <td>9</td>\n",
       "      <td>17</td>\n",
       "    </tr>\n",
       "    <tr>\n",
       "      <td>1</td>\n",
       "      <td>9</td>\n",
       "      <td>23</td>\n",
       "      <td>8575</td>\n",
       "      <td>58</td>\n",
       "      <td>7</td>\n",
       "    </tr>\n",
       "    <tr>\n",
       "      <td>2</td>\n",
       "      <td>46</td>\n",
       "      <td>168</td>\n",
       "      <td>45475</td>\n",
       "      <td>13</td>\n",
       "      <td>16</td>\n",
       "    </tr>\n",
       "    <tr>\n",
       "      <td>3</td>\n",
       "      <td>11</td>\n",
       "      <td>153</td>\n",
       "      <td>39508</td>\n",
       "      <td>42</td>\n",
       "      <td>15</td>\n",
       "    </tr>\n",
       "    <tr>\n",
       "      <td>4</td>\n",
       "      <td>14</td>\n",
       "      <td>32</td>\n",
       "      <td>11565</td>\n",
       "      <td>54</td>\n",
       "      <td>19</td>\n",
       "    </tr>\n",
       "    <tr>\n",
       "      <td>...</td>\n",
       "      <td>...</td>\n",
       "      <td>...</td>\n",
       "      <td>...</td>\n",
       "      <td>...</td>\n",
       "      <td>...</td>\n",
       "    </tr>\n",
       "    <tr>\n",
       "      <td>188597</td>\n",
       "      <td>17</td>\n",
       "      <td>36</td>\n",
       "      <td>14886</td>\n",
       "      <td>50</td>\n",
       "      <td>8</td>\n",
       "    </tr>\n",
       "    <tr>\n",
       "      <td>188629</td>\n",
       "      <td>13</td>\n",
       "      <td>31</td>\n",
       "      <td>12728</td>\n",
       "      <td>9</td>\n",
       "      <td>19</td>\n",
       "    </tr>\n",
       "    <tr>\n",
       "      <td>188650</td>\n",
       "      <td>47</td>\n",
       "      <td>170</td>\n",
       "      <td>45708</td>\n",
       "      <td>30</td>\n",
       "      <td>4</td>\n",
       "    </tr>\n",
       "    <tr>\n",
       "      <td>188672</td>\n",
       "      <td>47</td>\n",
       "      <td>171</td>\n",
       "      <td>46408</td>\n",
       "      <td>59</td>\n",
       "      <td>4</td>\n",
       "    </tr>\n",
       "    <tr>\n",
       "      <td>188689</td>\n",
       "      <td>47</td>\n",
       "      <td>171</td>\n",
       "      <td>45580</td>\n",
       "      <td>12</td>\n",
       "      <td>4</td>\n",
       "    </tr>\n",
       "  </tbody>\n",
       "</table>\n",
       "<p>49479 rows × 5 columns</p>\n",
       "</div>"
      ],
      "text/plain": [
       "        Artist  Track  RESPID  Rating  Time\n",
       "0           40    179   47994       9    17\n",
       "1            9     23    8575      58     7\n",
       "2           46    168   45475      13    16\n",
       "3           11    153   39508      42    15\n",
       "4           14     32   11565      54    19\n",
       "...        ...    ...     ...     ...   ...\n",
       "188597      17     36   14886      50     8\n",
       "188629      13     31   12728       9    19\n",
       "188650      47    170   45708      30     4\n",
       "188672      47    171   46408      59     4\n",
       "188689      47    171   45580      12     4\n",
       "\n",
       "[49479 rows x 5 columns]"
      ]
     },
     "execution_count": 7,
     "metadata": {},
     "output_type": "execute_result"
    }
   ],
   "source": [
    "unique_train"
   ]
  },
  {
   "cell_type": "code",
   "execution_count": 9,
   "metadata": {},
   "outputs": [],
   "source": [
    "merged_df = pd.merge(users_df, unique_train, on='RESPID')"
   ]
  },
  {
   "cell_type": "markdown",
   "metadata": {},
   "source": [
    "IMPUTE AGE W/ MEAN"
   ]
  },
  {
   "cell_type": "code",
   "execution_count": 10,
   "metadata": {},
   "outputs": [],
   "source": [
    "merged_df['AGE'].fillna(merged_df['AGE'].mean(),inplace=True)"
   ]
  },
  {
   "cell_type": "markdown",
   "metadata": {},
   "source": [
    "DROP NANs that Can't Be Imputed"
   ]
  },
  {
   "cell_type": "code",
   "execution_count": 11,
   "metadata": {},
   "outputs": [],
   "source": [
    "merged_df.dropna(inplace=True)"
   ]
  },
  {
   "cell_type": "code",
   "execution_count": 16,
   "metadata": {},
   "outputs": [
    {
     "data": {
      "text/plain": [
       "North               9342\n",
       "South               8527\n",
       "Midlands            8145\n",
       "Northern Ireland     520\n",
       "Name: REGION, dtype: int64"
      ]
     },
     "execution_count": 16,
     "metadata": {},
     "output_type": "execute_result"
    }
   ],
   "source": [
    "merged_df['REGION'].value_counts()"
   ]
  },
  {
   "cell_type": "code",
   "execution_count": 17,
   "metadata": {},
   "outputs": [
    {
     "data": {
      "text/plain": [
       "Female    13402\n",
       "Male      13132\n",
       "Name: GENDER, dtype: int64"
      ]
     },
     "execution_count": 17,
     "metadata": {},
     "output_type": "execute_result"
    }
   ],
   "source": [
    "merged_df['GENDER'].value_counts()"
   ]
  },
  {
   "cell_type": "code",
   "execution_count": 18,
   "metadata": {},
   "outputs": [
    {
     "data": {
      "text/plain": [
       "Music is important to me but not necessarily more important    10466\n",
       "Music means a lot to me and is a passion of mine                8372\n",
       "I like music but it does not feature heavily in my life         6318\n",
       "Music is no longer as important as it used to be to me           839\n",
       "Music has no particular interest for me                          539\n",
       "Name: MUSIC, dtype: int64"
      ]
     },
     "execution_count": 18,
     "metadata": {},
     "output_type": "execute_result"
    }
   ],
   "source": [
    "merged_df['MUSIC'].value_counts()"
   ]
  },
  {
   "cell_type": "code",
   "execution_count": 19,
   "metadata": {},
   "outputs": [],
   "source": [
    "#ONE-HOT ENCODING\n",
    "merged_df['Rating'] = np.where(merged_df['Rating'] > 50, 1, 0)"
   ]
  },
  {
   "cell_type": "code",
   "execution_count": 20,
   "metadata": {},
   "outputs": [],
   "source": [
    "merged_df['WORKING'] = np.where(merged_df['WORKING'] == 'Employed 30+ hours a week', 1, 0)"
   ]
  },
  {
   "cell_type": "markdown",
   "metadata": {},
   "source": [
    "BUCKET AGES"
   ]
  },
  {
   "cell_type": "code",
   "execution_count": 21,
   "metadata": {},
   "outputs": [],
   "source": [
    "merged_df['age_q'] = pd.qcut(merged_df['AGE'], q=4)"
   ]
  },
  {
   "cell_type": "markdown",
   "metadata": {},
   "source": [
    "DROP COLUMNS (LIST_OWN, LIST)"
   ]
  },
  {
   "cell_type": "code",
   "execution_count": 24,
   "metadata": {},
   "outputs": [],
   "source": [
    "merged_df.drop(columns=['LIST_OWN', 'LIST_BACK'], inplace=True)"
   ]
  },
  {
   "cell_type": "code",
   "execution_count": 34,
   "metadata": {},
   "outputs": [
    {
     "data": {
      "text/plain": [
       "(26534, 30)"
      ]
     },
     "execution_count": 34,
     "metadata": {},
     "output_type": "execute_result"
    }
   ],
   "source": [
    "merged_df.shape"
   ]
  },
  {
   "cell_type": "markdown",
   "metadata": {},
   "source": [
    "# EDA"
   ]
  },
  {
   "cell_type": "markdown",
   "metadata": {},
   "source": [
    "## RATING DISTRIBUTION"
   ]
  },
  {
   "cell_type": "code",
   "execution_count": 66,
   "metadata": {},
   "outputs": [],
   "source": [
    "#SHOWS ALL OUTLIERS FOR EACH FEATURE\n",
    "def outliers(df):\n",
    "    for i in df.columns:\n",
    "        print(i)\n",
    "        sns.boxplot(df[i])\n",
    "        plt.show()"
   ]
  },
  {
   "cell_type": "code",
   "execution_count": 63,
   "metadata": {},
   "outputs": [],
   "source": [
    "#Function to convert catagorical variables to type 'Catagory'-\n",
    "def convert_catagorical(catagorical_vars, df):\n",
    "    for cat in catagorical_vars:\n",
    "        df[cat] = df[cat].astype('category')\n",
    "    return df.dtypes"
   ]
  },
  {
   "cell_type": "code",
   "execution_count": 60,
   "metadata": {},
   "outputs": [],
   "source": [
    "#Function for Distribution of Catagorical Variables\n",
    "def categorical_dist(catagorical_vals):\n",
    "    for cat in catagorical_vals:\n",
    "        merged_df[cat].value_counts().plot(kind='bar')\n",
    "        plt.xlabel(cat)\n",
    "        plt.ylabel('Amount')\n",
    "        plt.show()"
   ]
  },
  {
   "cell_type": "code",
   "execution_count": 62,
   "metadata": {},
   "outputs": [
    {
     "data": {
      "image/png": "[encoded data removed]",
      "text/plain": [
       "<Figure size 432x288 with 1 Axes>"
      ]
     },
     "metadata": {
      "needs_background": "light"
     },
     "output_type": "display_data"
    },
    {
     "data": {
      "image/png": "[encoded data removed]",
      "text/plain": [
       "<Figure size 432x288 with 1 Axes>"
      ]
     },
     "metadata": {
      "needs_background": "light"
     },
     "output_type": "display_data"
    },
    {
     "data": {
      "image/png": "[encoded data removed]",
      "text/plain": [
       "<Figure size 432x288 with 1 Axes>"
      ]
     },
     "metadata": {
      "needs_background": "light"
     },
     "output_type": "display_data"
    },
    {
     "data": {
      "image/png": "[encoded data removed]",
      "text/plain": [
       "<Figure size 432x288 with 1 Axes>"
      ]
     },
     "metadata": {
      "needs_background": "light"
     },
     "output_type": "display_data"
    },
    {
     "data": {
      "image/png": "[encoded data removed]",
      "text/plain": [
       "<Figure size 432x288 with 1 Axes>"
      ]
     },
     "metadata": {
      "needs_background": "light"
     },
     "output_type": "display_data"
    }
   ],
   "source": [
    "categorical_dist(catagorical)"
   ]
  },
  {
   "cell_type": "code",
   "execution_count": 68,
   "metadata": {},
   "outputs": [],
   "source": [
    "def lmplot(df):\n",
    "    df1 = df.drop(columns='Rating')\n",
    "    for i in df1.columns:\n",
    "        sns.lmplot(x=i, y='Rating', data=df)"
   ]
  },
  {
   "cell_type": "code",
   "execution_count": 71,
   "metadata": {},
   "outputs": [
    {
     "data": {
      "text/plain": [
       "<matplotlib.axes._subplots.AxesSubplot at 0x1a344af358>"
      ]
     },
     "execution_count": 71,
     "metadata": {},
     "output_type": "execute_result"
    },
    {
     "data": {
      "image/png": "[encoded data removed]",
      "text/plain": [
       "<Figure size 432x288 with 1 Axes>"
      ]
     },
     "metadata": {
      "needs_background": "light"
     },
     "output_type": "display_data"
    }
   ],
   "source": [
    "#CLASSES\n",
    "merged_df['Rating'].value_counts().plot(kind='bar')"
   ]
  },
  {
   "cell_type": "code",
   "execution_count": 243,
   "metadata": {},
   "outputs": [
    {
     "data": {
      "text/plain": [
       "<matplotlib.axes._subplots.AxesSubplot at 0x1a4a0e3588>"
      ]
     },
     "execution_count": 243,
     "metadata": {},
     "output_type": "execute_result"
    },
    {
     "data": {
      "image/png": "[encoded data removed]",
      "text/plain": [
       "<Figure size 1440x720 with 1 Axes>"
      ]
     },
     "metadata": {},
     "output_type": "display_data"
    }
   ],
   "source": [
    "plt.figure(figsize=(20, 10))\n",
    "plt.ylabel('Rating', fontsize=30)\n",
    "plt.xlabel('GENDER', fontsize=30)\n",
    "plt.xticks([0, 1], fontsize=18)\n",
    "merged_df.groupby('GENDER')['Rating'].mean().plot(kind='bar')"
   ]
  },
  {
   "cell_type": "code",
   "execution_count": 244,
   "metadata": {},
   "outputs": [
    {
     "data": {
      "text/plain": [
       "<matplotlib.axes._subplots.AxesSubplot at 0x1a49fcb550>"
      ]
     },
     "execution_count": 244,
     "metadata": {},
     "output_type": "execute_result"
    },
    {
     "data": {
      "image/png": "[encoded data removed]",
      "text/plain": [
       "<Figure size 432x288 with 1 Axes>"
      ]
     },
     "metadata": {},
     "output_type": "display_data"
    }
   ],
   "source": [
    "merged_df.groupby('WORKING')['Rating'].mean().plot(kind='bar')"
   ]
  },
  {
   "cell_type": "markdown",
   "metadata": {},
   "source": [
    "# Feature Engineering"
   ]
  },
  {
   "cell_type": "code",
   "execution_count": 72,
   "metadata": {},
   "outputs": [
    {
     "data": {
      "text/html": [
       "<div>\n",
       "<style scoped>\n",
       "    .dataframe tbody tr th:only-of-type {\n",
       "        vertical-align: middle;\n",
       "    }\n",
       "\n",
       "    .dataframe tbody tr th {\n",
       "        vertical-align: top;\n",
       "    }\n",
       "\n",
       "    .dataframe thead th {\n",
       "        text-align: right;\n",
       "    }\n",
       "</style>\n",
       "<table border=\"1\" class=\"dataframe\">\n",
       "  <thead>\n",
       "    <tr style=\"text-align: right;\">\n",
       "      <th></th>\n",
       "      <th>RESPID</th>\n",
       "      <th>GENDER</th>\n",
       "      <th>AGE</th>\n",
       "      <th>WORKING</th>\n",
       "      <th>REGION</th>\n",
       "      <th>MUSIC</th>\n",
       "      <th>Q1</th>\n",
       "      <th>Q2</th>\n",
       "      <th>Q3</th>\n",
       "      <th>Q4</th>\n",
       "      <th>...</th>\n",
       "      <th>Q15</th>\n",
       "      <th>Q16</th>\n",
       "      <th>Q17</th>\n",
       "      <th>Q18</th>\n",
       "      <th>Q19</th>\n",
       "      <th>Artist</th>\n",
       "      <th>Track</th>\n",
       "      <th>Rating</th>\n",
       "      <th>Time</th>\n",
       "      <th>age_q</th>\n",
       "    </tr>\n",
       "  </thead>\n",
       "  <tbody>\n",
       "    <tr>\n",
       "      <td>1</td>\n",
       "      <td>3566</td>\n",
       "      <td>0</td>\n",
       "      <td>36.0</td>\n",
       "      <td>0</td>\n",
       "      <td>3</td>\n",
       "      <td>2</td>\n",
       "      <td>55.0</td>\n",
       "      <td>55.0</td>\n",
       "      <td>62.0</td>\n",
       "      <td>9.0</td>\n",
       "      <td>...</td>\n",
       "      <td>51.0</td>\n",
       "      <td>31.0</td>\n",
       "      <td>68.0</td>\n",
       "      <td>54.0</td>\n",
       "      <td>33.0</td>\n",
       "      <td>4</td>\n",
       "      <td>11</td>\n",
       "      <td>1</td>\n",
       "      <td>18</td>\n",
       "      <td>1</td>\n",
       "    </tr>\n",
       "    <tr>\n",
       "      <td>2</td>\n",
       "      <td>20054</td>\n",
       "      <td>0</td>\n",
       "      <td>52.0</td>\n",
       "      <td>1</td>\n",
       "      <td>0</td>\n",
       "      <td>0</td>\n",
       "      <td>11.0</td>\n",
       "      <td>50.0</td>\n",
       "      <td>9.0</td>\n",
       "      <td>8.0</td>\n",
       "      <td>...</td>\n",
       "      <td>27.0</td>\n",
       "      <td>46.0</td>\n",
       "      <td>73.0</td>\n",
       "      <td>8.0</td>\n",
       "      <td>31.0</td>\n",
       "      <td>25</td>\n",
       "      <td>59</td>\n",
       "      <td>0</td>\n",
       "      <td>21</td>\n",
       "      <td>3</td>\n",
       "    </tr>\n",
       "    <tr>\n",
       "      <td>3</td>\n",
       "      <td>41749</td>\n",
       "      <td>0</td>\n",
       "      <td>40.0</td>\n",
       "      <td>0</td>\n",
       "      <td>3</td>\n",
       "      <td>4</td>\n",
       "      <td>81.0</td>\n",
       "      <td>80.0</td>\n",
       "      <td>88.0</td>\n",
       "      <td>88.0</td>\n",
       "      <td>...</td>\n",
       "      <td>61.0</td>\n",
       "      <td>77.0</td>\n",
       "      <td>76.0</td>\n",
       "      <td>78.0</td>\n",
       "      <td>88.0</td>\n",
       "      <td>44</td>\n",
       "      <td>161</td>\n",
       "      <td>0</td>\n",
       "      <td>16</td>\n",
       "      <td>2</td>\n",
       "    </tr>\n",
       "    <tr>\n",
       "      <td>6</td>\n",
       "      <td>4596</td>\n",
       "      <td>0</td>\n",
       "      <td>58.0</td>\n",
       "      <td>0</td>\n",
       "      <td>1</td>\n",
       "      <td>0</td>\n",
       "      <td>31.0</td>\n",
       "      <td>31.0</td>\n",
       "      <td>37.0</td>\n",
       "      <td>78.0</td>\n",
       "      <td>...</td>\n",
       "      <td>10.0</td>\n",
       "      <td>14.0</td>\n",
       "      <td>49.0</td>\n",
       "      <td>29.0</td>\n",
       "      <td>24.0</td>\n",
       "      <td>2</td>\n",
       "      <td>7</td>\n",
       "      <td>0</td>\n",
       "      <td>18</td>\n",
       "      <td>3</td>\n",
       "    </tr>\n",
       "    <tr>\n",
       "      <td>7</td>\n",
       "      <td>40555</td>\n",
       "      <td>0</td>\n",
       "      <td>50.0</td>\n",
       "      <td>1</td>\n",
       "      <td>0</td>\n",
       "      <td>2</td>\n",
       "      <td>50.0</td>\n",
       "      <td>32.0</td>\n",
       "      <td>51.0</td>\n",
       "      <td>68.0</td>\n",
       "      <td>...</td>\n",
       "      <td>7.0</td>\n",
       "      <td>27.0</td>\n",
       "      <td>72.0</td>\n",
       "      <td>52.0</td>\n",
       "      <td>31.0</td>\n",
       "      <td>0</td>\n",
       "      <td>150</td>\n",
       "      <td>0</td>\n",
       "      <td>15</td>\n",
       "      <td>2</td>\n",
       "    </tr>\n",
       "    <tr>\n",
       "      <td>...</td>\n",
       "      <td>...</td>\n",
       "      <td>...</td>\n",
       "      <td>...</td>\n",
       "      <td>...</td>\n",
       "      <td>...</td>\n",
       "      <td>...</td>\n",
       "      <td>...</td>\n",
       "      <td>...</td>\n",
       "      <td>...</td>\n",
       "      <td>...</td>\n",
       "      <td>...</td>\n",
       "      <td>...</td>\n",
       "      <td>...</td>\n",
       "      <td>...</td>\n",
       "      <td>...</td>\n",
       "      <td>...</td>\n",
       "      <td>...</td>\n",
       "      <td>...</td>\n",
       "      <td>...</td>\n",
       "      <td>...</td>\n",
       "      <td>...</td>\n",
       "    </tr>\n",
       "    <tr>\n",
       "      <td>47194</td>\n",
       "      <td>18269</td>\n",
       "      <td>0</td>\n",
       "      <td>46.0</td>\n",
       "      <td>1</td>\n",
       "      <td>3</td>\n",
       "      <td>2</td>\n",
       "      <td>10.0</td>\n",
       "      <td>62.0</td>\n",
       "      <td>47.0</td>\n",
       "      <td>31.0</td>\n",
       "      <td>...</td>\n",
       "      <td>31.0</td>\n",
       "      <td>10.0</td>\n",
       "      <td>32.0</td>\n",
       "      <td>10.0</td>\n",
       "      <td>10.0</td>\n",
       "      <td>21</td>\n",
       "      <td>48</td>\n",
       "      <td>0</td>\n",
       "      <td>21</td>\n",
       "      <td>2</td>\n",
       "    </tr>\n",
       "    <tr>\n",
       "      <td>47195</td>\n",
       "      <td>39239</td>\n",
       "      <td>1</td>\n",
       "      <td>24.0</td>\n",
       "      <td>1</td>\n",
       "      <td>1</td>\n",
       "      <td>0</td>\n",
       "      <td>45.0</td>\n",
       "      <td>6.0</td>\n",
       "      <td>44.0</td>\n",
       "      <td>71.0</td>\n",
       "      <td>...</td>\n",
       "      <td>32.0</td>\n",
       "      <td>32.0</td>\n",
       "      <td>49.0</td>\n",
       "      <td>29.0</td>\n",
       "      <td>30.0</td>\n",
       "      <td>6</td>\n",
       "      <td>149</td>\n",
       "      <td>0</td>\n",
       "      <td>15</td>\n",
       "      <td>0</td>\n",
       "    </tr>\n",
       "    <tr>\n",
       "      <td>47196</td>\n",
       "      <td>19361</td>\n",
       "      <td>1</td>\n",
       "      <td>48.0</td>\n",
       "      <td>0</td>\n",
       "      <td>0</td>\n",
       "      <td>0</td>\n",
       "      <td>9.0</td>\n",
       "      <td>73.0</td>\n",
       "      <td>33.0</td>\n",
       "      <td>6.0</td>\n",
       "      <td>...</td>\n",
       "      <td>12.0</td>\n",
       "      <td>10.0</td>\n",
       "      <td>50.0</td>\n",
       "      <td>10.0</td>\n",
       "      <td>28.0</td>\n",
       "      <td>21</td>\n",
       "      <td>48</td>\n",
       "      <td>0</td>\n",
       "      <td>21</td>\n",
       "      <td>2</td>\n",
       "    </tr>\n",
       "    <tr>\n",
       "      <td>47197</td>\n",
       "      <td>17639</td>\n",
       "      <td>0</td>\n",
       "      <td>60.0</td>\n",
       "      <td>0</td>\n",
       "      <td>0</td>\n",
       "      <td>4</td>\n",
       "      <td>26.0</td>\n",
       "      <td>50.0</td>\n",
       "      <td>49.0</td>\n",
       "      <td>58.0</td>\n",
       "      <td>...</td>\n",
       "      <td>30.0</td>\n",
       "      <td>6.0</td>\n",
       "      <td>73.0</td>\n",
       "      <td>20.0</td>\n",
       "      <td>21.0</td>\n",
       "      <td>25</td>\n",
       "      <td>59</td>\n",
       "      <td>0</td>\n",
       "      <td>21</td>\n",
       "      <td>3</td>\n",
       "    </tr>\n",
       "    <tr>\n",
       "      <td>47199</td>\n",
       "      <td>26197</td>\n",
       "      <td>1</td>\n",
       "      <td>44.0</td>\n",
       "      <td>1</td>\n",
       "      <td>0</td>\n",
       "      <td>4</td>\n",
       "      <td>95.0</td>\n",
       "      <td>97.0</td>\n",
       "      <td>97.0</td>\n",
       "      <td>98.0</td>\n",
       "      <td>...</td>\n",
       "      <td>99.0</td>\n",
       "      <td>99.0</td>\n",
       "      <td>100.0</td>\n",
       "      <td>91.0</td>\n",
       "      <td>96.0</td>\n",
       "      <td>33</td>\n",
       "      <td>85</td>\n",
       "      <td>1</td>\n",
       "      <td>11</td>\n",
       "      <td>2</td>\n",
       "    </tr>\n",
       "  </tbody>\n",
       "</table>\n",
       "<p>26534 rows × 30 columns</p>\n",
       "</div>"
      ],
      "text/plain": [
       "       RESPID GENDER   AGE WORKING REGION MUSIC    Q1    Q2    Q3    Q4  ...  \\\n",
       "1        3566      0  36.0       0      3     2  55.0  55.0  62.0   9.0  ...   \n",
       "2       20054      0  52.0       1      0     0  11.0  50.0   9.0   8.0  ...   \n",
       "3       41749      0  40.0       0      3     4  81.0  80.0  88.0  88.0  ...   \n",
       "6        4596      0  58.0       0      1     0  31.0  31.0  37.0  78.0  ...   \n",
       "7       40555      0  50.0       1      0     2  50.0  32.0  51.0  68.0  ...   \n",
       "...       ...    ...   ...     ...    ...   ...   ...   ...   ...   ...  ...   \n",
       "47194   18269      0  46.0       1      3     2  10.0  62.0  47.0  31.0  ...   \n",
       "47195   39239      1  24.0       1      1     0  45.0   6.0  44.0  71.0  ...   \n",
       "47196   19361      1  48.0       0      0     0   9.0  73.0  33.0   6.0  ...   \n",
       "47197   17639      0  60.0       0      0     4  26.0  50.0  49.0  58.0  ...   \n",
       "47199   26197      1  44.0       1      0     4  95.0  97.0  97.0  98.0  ...   \n",
       "\n",
       "        Q15   Q16    Q17   Q18   Q19  Artist  Track  Rating  Time  age_q  \n",
       "1      51.0  31.0   68.0  54.0  33.0       4     11       1    18      1  \n",
       "2      27.0  46.0   73.0   8.0  31.0      25     59       0    21      3  \n",
       "3      61.0  77.0   76.0  78.0  88.0      44    161       0    16      2  \n",
       "6      10.0  14.0   49.0  29.0  24.0       2      7       0    18      3  \n",
       "7       7.0  27.0   72.0  52.0  31.0       0    150       0    15      2  \n",
       "...     ...   ...    ...   ...   ...     ...    ...     ...   ...    ...  \n",
       "47194  31.0  10.0   32.0  10.0  10.0      21     48       0    21      2  \n",
       "47195  32.0  32.0   49.0  29.0  30.0       6    149       0    15      0  \n",
       "47196  12.0  10.0   50.0  10.0  28.0      21     48       0    21      2  \n",
       "47197  30.0   6.0   73.0  20.0  21.0      25     59       0    21      3  \n",
       "47199  99.0  99.0  100.0  91.0  96.0      33     85       1    11      2  \n",
       "\n",
       "[26534 rows x 30 columns]"
      ]
     },
     "execution_count": 72,
     "metadata": {},
     "output_type": "execute_result"
    }
   ],
   "source": [
    "merged_df"
   ]
  },
  {
   "cell_type": "code",
   "execution_count": 109,
   "metadata": {},
   "outputs": [],
   "source": [
    "#Dropping features to reduce model complexity\n",
    "dropped_columns= ['Q4', 'Q6', 'Q19', 'Q11', 'Q10', 'Q12', 'Q14', 'Q13', 'Q15', 'Q16']"
   ]
  },
  {
   "cell_type": "code",
   "execution_count": 108,
   "metadata": {},
   "outputs": [
    {
     "data": {
      "text/plain": [
       "Index(['RESPID', 'GENDER', 'AGE', 'WORKING', 'REGION', 'MUSIC', 'Q1', 'Q2',\n",
       "       'Q3', 'Q4', 'Q5', 'Q6', 'Q7', 'Q8', 'Q9', 'Q10', 'Q11', 'Q12', 'Q13',\n",
       "       'Q14', 'Q15', 'Q16', 'Q17', 'Q18', 'Q19', 'Artist', 'Track', 'Rating',\n",
       "       'Time', 'age_q'],\n",
       "      dtype='object')"
      ]
     },
     "execution_count": 108,
     "metadata": {},
     "output_type": "execute_result"
    }
   ],
   "source": [
    "merged_df.columns"
   ]
  },
  {
   "cell_type": "code",
   "execution_count": 111,
   "metadata": {},
   "outputs": [
    {
     "data": {
      "text/html": [
       "<div>\n",
       "<style scoped>\n",
       "    .dataframe tbody tr th:only-of-type {\n",
       "        vertical-align: middle;\n",
       "    }\n",
       "\n",
       "    .dataframe tbody tr th {\n",
       "        vertical-align: top;\n",
       "    }\n",
       "\n",
       "    .dataframe thead th {\n",
       "        text-align: right;\n",
       "    }\n",
       "</style>\n",
       "<table border=\"1\" class=\"dataframe\">\n",
       "  <thead>\n",
       "    <tr style=\"text-align: right;\">\n",
       "      <th></th>\n",
       "      <th>RESPID</th>\n",
       "      <th>GENDER</th>\n",
       "      <th>AGE</th>\n",
       "      <th>WORKING</th>\n",
       "      <th>REGION</th>\n",
       "      <th>MUSIC</th>\n",
       "      <th>Q1</th>\n",
       "      <th>Q2</th>\n",
       "      <th>Q3</th>\n",
       "      <th>Q5</th>\n",
       "      <th>Q7</th>\n",
       "      <th>Q8</th>\n",
       "      <th>Q9</th>\n",
       "      <th>Q17</th>\n",
       "      <th>Q18</th>\n",
       "      <th>Artist</th>\n",
       "      <th>Track</th>\n",
       "      <th>Rating</th>\n",
       "      <th>Time</th>\n",
       "      <th>age_q</th>\n",
       "    </tr>\n",
       "  </thead>\n",
       "  <tbody>\n",
       "    <tr>\n",
       "      <td>1</td>\n",
       "      <td>3566</td>\n",
       "      <td>0</td>\n",
       "      <td>36.0</td>\n",
       "      <td>0</td>\n",
       "      <td>3</td>\n",
       "      <td>2</td>\n",
       "      <td>55.0</td>\n",
       "      <td>55.0</td>\n",
       "      <td>62.0</td>\n",
       "      <td>9.0</td>\n",
       "      <td>10.0</td>\n",
       "      <td>11.0</td>\n",
       "      <td>55.0</td>\n",
       "      <td>68.0</td>\n",
       "      <td>54.0</td>\n",
       "      <td>4</td>\n",
       "      <td>11</td>\n",
       "      <td>1</td>\n",
       "      <td>18</td>\n",
       "      <td>1</td>\n",
       "    </tr>\n",
       "    <tr>\n",
       "      <td>2</td>\n",
       "      <td>20054</td>\n",
       "      <td>0</td>\n",
       "      <td>52.0</td>\n",
       "      <td>1</td>\n",
       "      <td>0</td>\n",
       "      <td>0</td>\n",
       "      <td>11.0</td>\n",
       "      <td>50.0</td>\n",
       "      <td>9.0</td>\n",
       "      <td>45.0</td>\n",
       "      <td>30.0</td>\n",
       "      <td>29.0</td>\n",
       "      <td>8.0</td>\n",
       "      <td>73.0</td>\n",
       "      <td>8.0</td>\n",
       "      <td>25</td>\n",
       "      <td>59</td>\n",
       "      <td>0</td>\n",
       "      <td>21</td>\n",
       "      <td>3</td>\n",
       "    </tr>\n",
       "    <tr>\n",
       "      <td>3</td>\n",
       "      <td>41749</td>\n",
       "      <td>0</td>\n",
       "      <td>40.0</td>\n",
       "      <td>0</td>\n",
       "      <td>3</td>\n",
       "      <td>4</td>\n",
       "      <td>81.0</td>\n",
       "      <td>80.0</td>\n",
       "      <td>88.0</td>\n",
       "      <td>31.0</td>\n",
       "      <td>51.0</td>\n",
       "      <td>30.0</td>\n",
       "      <td>8.0</td>\n",
       "      <td>76.0</td>\n",
       "      <td>78.0</td>\n",
       "      <td>44</td>\n",
       "      <td>161</td>\n",
       "      <td>0</td>\n",
       "      <td>16</td>\n",
       "      <td>2</td>\n",
       "    </tr>\n",
       "    <tr>\n",
       "      <td>6</td>\n",
       "      <td>4596</td>\n",
       "      <td>0</td>\n",
       "      <td>58.0</td>\n",
       "      <td>0</td>\n",
       "      <td>1</td>\n",
       "      <td>0</td>\n",
       "      <td>31.0</td>\n",
       "      <td>31.0</td>\n",
       "      <td>37.0</td>\n",
       "      <td>58.0</td>\n",
       "      <td>82.0</td>\n",
       "      <td>13.0</td>\n",
       "      <td>70.0</td>\n",
       "      <td>49.0</td>\n",
       "      <td>29.0</td>\n",
       "      <td>2</td>\n",
       "      <td>7</td>\n",
       "      <td>0</td>\n",
       "      <td>18</td>\n",
       "      <td>3</td>\n",
       "    </tr>\n",
       "    <tr>\n",
       "      <td>7</td>\n",
       "      <td>40555</td>\n",
       "      <td>0</td>\n",
       "      <td>50.0</td>\n",
       "      <td>1</td>\n",
       "      <td>0</td>\n",
       "      <td>2</td>\n",
       "      <td>50.0</td>\n",
       "      <td>32.0</td>\n",
       "      <td>51.0</td>\n",
       "      <td>69.0</td>\n",
       "      <td>33.0</td>\n",
       "      <td>31.0</td>\n",
       "      <td>54.0</td>\n",
       "      <td>72.0</td>\n",
       "      <td>52.0</td>\n",
       "      <td>0</td>\n",
       "      <td>150</td>\n",
       "      <td>0</td>\n",
       "      <td>15</td>\n",
       "      <td>2</td>\n",
       "    </tr>\n",
       "    <tr>\n",
       "      <td>...</td>\n",
       "      <td>...</td>\n",
       "      <td>...</td>\n",
       "      <td>...</td>\n",
       "      <td>...</td>\n",
       "      <td>...</td>\n",
       "      <td>...</td>\n",
       "      <td>...</td>\n",
       "      <td>...</td>\n",
       "      <td>...</td>\n",
       "      <td>...</td>\n",
       "      <td>...</td>\n",
       "      <td>...</td>\n",
       "      <td>...</td>\n",
       "      <td>...</td>\n",
       "      <td>...</td>\n",
       "      <td>...</td>\n",
       "      <td>...</td>\n",
       "      <td>...</td>\n",
       "      <td>...</td>\n",
       "      <td>...</td>\n",
       "    </tr>\n",
       "    <tr>\n",
       "      <td>47194</td>\n",
       "      <td>18269</td>\n",
       "      <td>0</td>\n",
       "      <td>46.0</td>\n",
       "      <td>1</td>\n",
       "      <td>3</td>\n",
       "      <td>2</td>\n",
       "      <td>10.0</td>\n",
       "      <td>62.0</td>\n",
       "      <td>47.0</td>\n",
       "      <td>32.0</td>\n",
       "      <td>49.0</td>\n",
       "      <td>32.0</td>\n",
       "      <td>62.0</td>\n",
       "      <td>32.0</td>\n",
       "      <td>10.0</td>\n",
       "      <td>21</td>\n",
       "      <td>48</td>\n",
       "      <td>0</td>\n",
       "      <td>21</td>\n",
       "      <td>2</td>\n",
       "    </tr>\n",
       "    <tr>\n",
       "      <td>47195</td>\n",
       "      <td>39239</td>\n",
       "      <td>1</td>\n",
       "      <td>24.0</td>\n",
       "      <td>1</td>\n",
       "      <td>1</td>\n",
       "      <td>0</td>\n",
       "      <td>45.0</td>\n",
       "      <td>6.0</td>\n",
       "      <td>44.0</td>\n",
       "      <td>70.0</td>\n",
       "      <td>5.0</td>\n",
       "      <td>8.0</td>\n",
       "      <td>70.0</td>\n",
       "      <td>49.0</td>\n",
       "      <td>29.0</td>\n",
       "      <td>6</td>\n",
       "      <td>149</td>\n",
       "      <td>0</td>\n",
       "      <td>15</td>\n",
       "      <td>0</td>\n",
       "    </tr>\n",
       "    <tr>\n",
       "      <td>47196</td>\n",
       "      <td>19361</td>\n",
       "      <td>1</td>\n",
       "      <td>48.0</td>\n",
       "      <td>0</td>\n",
       "      <td>0</td>\n",
       "      <td>0</td>\n",
       "      <td>9.0</td>\n",
       "      <td>73.0</td>\n",
       "      <td>33.0</td>\n",
       "      <td>10.0</td>\n",
       "      <td>51.0</td>\n",
       "      <td>52.0</td>\n",
       "      <td>93.0</td>\n",
       "      <td>50.0</td>\n",
       "      <td>10.0</td>\n",
       "      <td>21</td>\n",
       "      <td>48</td>\n",
       "      <td>0</td>\n",
       "      <td>21</td>\n",
       "      <td>2</td>\n",
       "    </tr>\n",
       "    <tr>\n",
       "      <td>47197</td>\n",
       "      <td>17639</td>\n",
       "      <td>0</td>\n",
       "      <td>60.0</td>\n",
       "      <td>0</td>\n",
       "      <td>0</td>\n",
       "      <td>4</td>\n",
       "      <td>26.0</td>\n",
       "      <td>50.0</td>\n",
       "      <td>49.0</td>\n",
       "      <td>59.0</td>\n",
       "      <td>6.0</td>\n",
       "      <td>5.0</td>\n",
       "      <td>88.0</td>\n",
       "      <td>73.0</td>\n",
       "      <td>20.0</td>\n",
       "      <td>25</td>\n",
       "      <td>59</td>\n",
       "      <td>0</td>\n",
       "      <td>21</td>\n",
       "      <td>3</td>\n",
       "    </tr>\n",
       "    <tr>\n",
       "      <td>47199</td>\n",
       "      <td>26197</td>\n",
       "      <td>1</td>\n",
       "      <td>44.0</td>\n",
       "      <td>1</td>\n",
       "      <td>0</td>\n",
       "      <td>4</td>\n",
       "      <td>95.0</td>\n",
       "      <td>97.0</td>\n",
       "      <td>97.0</td>\n",
       "      <td>97.0</td>\n",
       "      <td>100.0</td>\n",
       "      <td>99.0</td>\n",
       "      <td>100.0</td>\n",
       "      <td>100.0</td>\n",
       "      <td>91.0</td>\n",
       "      <td>33</td>\n",
       "      <td>85</td>\n",
       "      <td>1</td>\n",
       "      <td>11</td>\n",
       "      <td>2</td>\n",
       "    </tr>\n",
       "  </tbody>\n",
       "</table>\n",
       "<p>26534 rows × 20 columns</p>\n",
       "</div>"
      ],
      "text/plain": [
       "       RESPID GENDER   AGE WORKING REGION MUSIC    Q1    Q2    Q3    Q5  \\\n",
       "1        3566      0  36.0       0      3     2  55.0  55.0  62.0   9.0   \n",
       "2       20054      0  52.0       1      0     0  11.0  50.0   9.0  45.0   \n",
       "3       41749      0  40.0       0      3     4  81.0  80.0  88.0  31.0   \n",
       "6        4596      0  58.0       0      1     0  31.0  31.0  37.0  58.0   \n",
       "7       40555      0  50.0       1      0     2  50.0  32.0  51.0  69.0   \n",
       "...       ...    ...   ...     ...    ...   ...   ...   ...   ...   ...   \n",
       "47194   18269      0  46.0       1      3     2  10.0  62.0  47.0  32.0   \n",
       "47195   39239      1  24.0       1      1     0  45.0   6.0  44.0  70.0   \n",
       "47196   19361      1  48.0       0      0     0   9.0  73.0  33.0  10.0   \n",
       "47197   17639      0  60.0       0      0     4  26.0  50.0  49.0  59.0   \n",
       "47199   26197      1  44.0       1      0     4  95.0  97.0  97.0  97.0   \n",
       "\n",
       "          Q7    Q8     Q9    Q17   Q18  Artist  Track  Rating  Time age_q  \n",
       "1       10.0  11.0   55.0   68.0  54.0       4     11       1    18     1  \n",
       "2       30.0  29.0    8.0   73.0   8.0      25     59       0    21     3  \n",
       "3       51.0  30.0    8.0   76.0  78.0      44    161       0    16     2  \n",
       "6       82.0  13.0   70.0   49.0  29.0       2      7       0    18     3  \n",
       "7       33.0  31.0   54.0   72.0  52.0       0    150       0    15     2  \n",
       "...      ...   ...    ...    ...   ...     ...    ...     ...   ...   ...  \n",
       "47194   49.0  32.0   62.0   32.0  10.0      21     48       0    21     2  \n",
       "47195    5.0   8.0   70.0   49.0  29.0       6    149       0    15     0  \n",
       "47196   51.0  52.0   93.0   50.0  10.0      21     48       0    21     2  \n",
       "47197    6.0   5.0   88.0   73.0  20.0      25     59       0    21     3  \n",
       "47199  100.0  99.0  100.0  100.0  91.0      33     85       1    11     2  \n",
       "\n",
       "[26534 rows x 20 columns]"
      ]
     },
     "execution_count": 111,
     "metadata": {},
     "output_type": "execute_result"
    }
   ],
   "source": [
    "for col in dropped_columns:\n",
    "    merged_df.drop(columns=col, inplace=True)\n",
    "merged_df"
   ]
  },
  {
   "cell_type": "code",
   "execution_count": 91,
   "metadata": {},
   "outputs": [],
   "source": [
    "#Function to dummify columns\n",
    "def dummify(df, column):\n",
    "    return pd.get_dummies(df[column])"
   ]
  },
  {
   "cell_type": "code",
   "execution_count": 262,
   "metadata": {},
   "outputs": [],
   "source": [
    "#All dummified column\n",
    "import xgboost as xgb\n",
    "from sklearn.model_selection import train_test_split\n",
    "from sklearn.metrics import mean_squared_error, accuracy_score, f1_score, roc_auc_score\n",
    "region_dum = dummify(merged_df, 'REGION')\n",
    "working_dum = dummify(merged_df, 'WORKING')\n",
    "music_dum = dummify(merged_df, 'MUSIC')\n",
    "age_dummy = dummify(merged_df, 'age_q')"
   ]
  },
  {
   "cell_type": "code",
   "execution_count": 290,
   "metadata": {},
   "outputs": [],
   "source": [
    "#Rename dummy list\n",
    "region_dum.rename(columns={0 : 'Region 1', 1 : 'Region 2', 2 : 'Region 3', 3 : 'Region 4'}, inplace=True)\n",
    "working_dum.rename(columns={0 : 'Working ', 1 : 'Not Working', 2 : 'Working 3', 3 : 'Working 4', 4 : 'Music 5'}, inplace=True)\n",
    "music_dum.rename(columns={0 : 'Like Music', 1 : 'No Interest', 2 : 'Important', 3 : 'Kinda Important', 4 : 'Passionate '}, inplace=True)\n",
    "age_dummy.rename(columns={0 : 'Age 13, 25', 1 : 'Age 25,39', 2 : 'Age 39,51',  3 : 'Age 51,89'}, inplace=True)"
   ]
  },
  {
   "cell_type": "code",
   "execution_count": 291,
   "metadata": {},
   "outputs": [
    {
     "data": {
      "text/plain": [
       "Index(['Region 1', 'Region 2', 'Region 3', 'Region 4'], dtype='object')"
      ]
     },
     "execution_count": 291,
     "metadata": {},
     "output_type": "execute_result"
    }
   ],
   "source": [
    "dummy_list = [region_dum, working_dum, music_dum, age_dummy]"
   ]
  },
  {
   "cell_type": "code",
   "execution_count": 294,
   "metadata": {},
   "outputs": [
    {
     "data": {
      "text/plain": [
       "RESPID       int64\n",
       "GENDER       int64\n",
       "AGE          int64\n",
       "WORKING      int64\n",
       "REGION       int64\n",
       "MUSIC        int64\n",
       "Q1         float64\n",
       "Q2         float64\n",
       "Q3         float64\n",
       "Q5         float64\n",
       "Q7         float64\n",
       "Q8         float64\n",
       "Q9         float64\n",
       "Q17        float64\n",
       "Q18        float64\n",
       "Artist       int64\n",
       "Track        int64\n",
       "Rating       int64\n",
       "Time         int64\n",
       "age_q        int64\n",
       "dtype: object"
      ]
     },
     "execution_count": 294,
     "metadata": {},
     "output_type": "execute_result"
    }
   ],
   "source": [
    "merged_df_region = pd.concat([merged_df, dummy_list[0]], axis=1)\n",
    "merged_df_working = pd.concat([merged_df, dummy_list[1]], axis=1)\n",
    "merged_df_music = pd.concat([merged_df, dummy_list[2]], axis=1)\n",
    "merged_df_age = pd.concat([merged_df, dummy_list[3]], axis=1)\n",
    "master_df_dummy = pd.concat([merged_df, dummy_list[0], dummy_list[1],dummy_list[2], dummy_list[3]],axis=1)"
   ]
  },
  {
   "cell_type": "code",
   "execution_count": 330,
   "metadata": {},
   "outputs": [
    {
     "data": {
      "text/plain": [
       "<matplotlib.axes._subplots.AxesSubplot at 0x1a489e44e0>"
      ]
     },
     "execution_count": 330,
     "metadata": {},
     "output_type": "execute_result"
    },
    {
     "data": {
      "image/png": "[encoded data removed]",
      "text/plain": [
       "<Figure size 432x288 with 1 Axes>"
      ]
     },
     "metadata": {},
     "output_type": "display_data"
    }
   ],
   "source": [
    "merged_df_music.groupby('MUSIC')['Rating'].mean().plot(kind='bar')"
   ]
  },
  {
   "cell_type": "code",
   "execution_count": 331,
   "metadata": {},
   "outputs": [
    {
     "data": {
      "text/plain": [
       "<matplotlib.axes._subplots.AxesSubplot at 0x1a3ae51940>"
      ]
     },
     "execution_count": 331,
     "metadata": {},
     "output_type": "execute_result"
    },
    {
     "data": {
      "image/png": "[encoded data removed]",
      "text/plain": [
       "<Figure size 432x288 with 1 Axes>"
      ]
     },
     "metadata": {},
     "output_type": "display_data"
    }
   ],
   "source": [
    "merged_df_age.groupby('age_q')['Rating'].mean().plot(kind='bar')"
   ]
  },
  {
   "cell_type": "code",
   "execution_count": 333,
   "metadata": {},
   "outputs": [
    {
     "data": {
      "text/plain": [
       "<matplotlib.axes._subplots.AxesSubplot at 0x1a48bcceb8>"
      ]
     },
     "execution_count": 333,
     "metadata": {},
     "output_type": "execute_result"
    },
    {
     "data": {
      "image/png": "[encoded data removed]",
      "text/plain": [
       "<Figure size 432x288 with 1 Axes>"
      ]
     },
     "metadata": {},
     "output_type": "display_data"
    }
   ],
   "source": [
    "merged_df_region.groupby('REGION')['Rating'].mean().plot(kind='bar')"
   ]
  },
  {
   "cell_type": "code",
   "execution_count": 335,
   "metadata": {},
   "outputs": [
    {
     "data": {
      "text/plain": [
       "<matplotlib.axes._subplots.AxesSubplot at 0x1a490fcf28>"
      ]
     },
     "execution_count": 335,
     "metadata": {},
     "output_type": "execute_result"
    },
    {
     "data": {
      "image/png": "[encoded data removed]",
      "text/plain": [
       "<Figure size 432x288 with 1 Axes>"
      ]
     },
     "metadata": {},
     "output_type": "display_data"
    }
   ],
   "source": [
    "sns.scatterplot('Q1', 'Rating', data=merged_df)"
   ]
  },
  {
   "cell_type": "code",
   "execution_count": 336,
   "metadata": {},
   "outputs": [
    {
     "data": {
      "text/html": [
       "<div>\n",
       "<style scoped>\n",
       "    .dataframe tbody tr th:only-of-type {\n",
       "        vertical-align: middle;\n",
       "    }\n",
       "\n",
       "    .dataframe tbody tr th {\n",
       "        vertical-align: top;\n",
       "    }\n",
       "\n",
       "    .dataframe thead th {\n",
       "        text-align: right;\n",
       "    }\n",
       "</style>\n",
       "<table border=\"1\" class=\"dataframe\">\n",
       "  <thead>\n",
       "    <tr style=\"text-align: right;\">\n",
       "      <th></th>\n",
       "      <th>RESPID</th>\n",
       "      <th>GENDER</th>\n",
       "      <th>AGE</th>\n",
       "      <th>WORKING</th>\n",
       "      <th>REGION</th>\n",
       "      <th>MUSIC</th>\n",
       "      <th>Q1</th>\n",
       "      <th>Q2</th>\n",
       "      <th>Q3</th>\n",
       "      <th>Q5</th>\n",
       "      <th>...</th>\n",
       "      <th>Working 2</th>\n",
       "      <th>Music 1</th>\n",
       "      <th>Muisc 2</th>\n",
       "      <th>Music 3</th>\n",
       "      <th>Music 4</th>\n",
       "      <th>Music 5</th>\n",
       "      <th>Age 1</th>\n",
       "      <th>Age 2</th>\n",
       "      <th>Age 3</th>\n",
       "      <th>Age 4</th>\n",
       "    </tr>\n",
       "  </thead>\n",
       "  <tbody>\n",
       "    <tr>\n",
       "      <td>RESPID</td>\n",
       "      <td>1.000000</td>\n",
       "      <td>0.005701</td>\n",
       "      <td>0.003696</td>\n",
       "      <td>0.021493</td>\n",
       "      <td>-0.011421</td>\n",
       "      <td>0.000616</td>\n",
       "      <td>0.013190</td>\n",
       "      <td>0.007438</td>\n",
       "      <td>0.016252</td>\n",
       "      <td>0.012371</td>\n",
       "      <td>...</td>\n",
       "      <td>0.021493</td>\n",
       "      <td>0.003270</td>\n",
       "      <td>0.000018</td>\n",
       "      <td>-0.004989</td>\n",
       "      <td>-0.009283</td>\n",
       "      <td>0.005740</td>\n",
       "      <td>-0.019868</td>\n",
       "      <td>0.017150</td>\n",
       "      <td>0.004945</td>\n",
       "      <td>-0.001930</td>\n",
       "    </tr>\n",
       "    <tr>\n",
       "      <td>GENDER</td>\n",
       "      <td>0.005701</td>\n",
       "      <td>1.000000</td>\n",
       "      <td>0.007905</td>\n",
       "      <td>0.189947</td>\n",
       "      <td>-0.010051</td>\n",
       "      <td>0.052868</td>\n",
       "      <td>0.107461</td>\n",
       "      <td>0.062448</td>\n",
       "      <td>0.087427</td>\n",
       "      <td>-0.000868</td>\n",
       "      <td>...</td>\n",
       "      <td>0.189947</td>\n",
       "      <td>-0.028998</td>\n",
       "      <td>0.037533</td>\n",
       "      <td>-0.042839</td>\n",
       "      <td>-0.021207</td>\n",
       "      <td>0.068221</td>\n",
       "      <td>-0.003797</td>\n",
       "      <td>-0.002598</td>\n",
       "      <td>-0.003114</td>\n",
       "      <td>0.009523</td>\n",
       "    </tr>\n",
       "    <tr>\n",
       "      <td>AGE</td>\n",
       "      <td>0.003696</td>\n",
       "      <td>0.007905</td>\n",
       "      <td>1.000000</td>\n",
       "      <td>-0.017756</td>\n",
       "      <td>-0.028582</td>\n",
       "      <td>-0.236896</td>\n",
       "      <td>-0.331269</td>\n",
       "      <td>-0.267730</td>\n",
       "      <td>-0.361855</td>\n",
       "      <td>-0.061116</td>\n",
       "      <td>...</td>\n",
       "      <td>-0.017756</td>\n",
       "      <td>0.185875</td>\n",
       "      <td>0.067106</td>\n",
       "      <td>-0.006254</td>\n",
       "      <td>0.088569</td>\n",
       "      <td>-0.217501</td>\n",
       "      <td>-0.739741</td>\n",
       "      <td>-0.224629</td>\n",
       "      <td>0.212255</td>\n",
       "      <td>0.770683</td>\n",
       "    </tr>\n",
       "    <tr>\n",
       "      <td>WORKING</td>\n",
       "      <td>0.021493</td>\n",
       "      <td>0.189947</td>\n",
       "      <td>-0.017756</td>\n",
       "      <td>1.000000</td>\n",
       "      <td>-0.023072</td>\n",
       "      <td>0.038034</td>\n",
       "      <td>0.052614</td>\n",
       "      <td>0.042249</td>\n",
       "      <td>0.051745</td>\n",
       "      <td>0.031439</td>\n",
       "      <td>...</td>\n",
       "      <td>1.000000</td>\n",
       "      <td>-0.033514</td>\n",
       "      <td>-0.017961</td>\n",
       "      <td>0.012256</td>\n",
       "      <td>-0.023943</td>\n",
       "      <td>0.032295</td>\n",
       "      <td>-0.211362</td>\n",
       "      <td>0.261917</td>\n",
       "      <td>0.135405</td>\n",
       "      <td>-0.181617</td>\n",
       "    </tr>\n",
       "    <tr>\n",
       "      <td>REGION</td>\n",
       "      <td>-0.011421</td>\n",
       "      <td>-0.010051</td>\n",
       "      <td>-0.028582</td>\n",
       "      <td>-0.023072</td>\n",
       "      <td>1.000000</td>\n",
       "      <td>0.018155</td>\n",
       "      <td>0.024322</td>\n",
       "      <td>0.012234</td>\n",
       "      <td>0.019661</td>\n",
       "      <td>-0.001332</td>\n",
       "      <td>...</td>\n",
       "      <td>-0.023072</td>\n",
       "      <td>-0.014964</td>\n",
       "      <td>-0.006693</td>\n",
       "      <td>0.002521</td>\n",
       "      <td>-0.007446</td>\n",
       "      <td>0.015899</td>\n",
       "      <td>0.063899</td>\n",
       "      <td>-0.043362</td>\n",
       "      <td>-0.027610</td>\n",
       "      <td>0.005767</td>\n",
       "    </tr>\n",
       "    <tr>\n",
       "      <td>MUSIC</td>\n",
       "      <td>0.000616</td>\n",
       "      <td>0.052868</td>\n",
       "      <td>-0.236896</td>\n",
       "      <td>0.038034</td>\n",
       "      <td>0.018155</td>\n",
       "      <td>1.000000</td>\n",
       "      <td>0.509780</td>\n",
       "      <td>0.380359</td>\n",
       "      <td>0.554672</td>\n",
       "      <td>0.021679</td>\n",
       "      <td>...</td>\n",
       "      <td>0.038034</td>\n",
       "      <td>-0.809307</td>\n",
       "      <td>-0.112223</td>\n",
       "      <td>-0.089606</td>\n",
       "      <td>0.100703</td>\n",
       "      <td>0.832127</td>\n",
       "      <td>0.173617</td>\n",
       "      <td>0.056290</td>\n",
       "      <td>-0.052113</td>\n",
       "      <td>-0.182231</td>\n",
       "    </tr>\n",
       "    <tr>\n",
       "      <td>Q1</td>\n",
       "      <td>0.013190</td>\n",
       "      <td>0.107461</td>\n",
       "      <td>-0.331269</td>\n",
       "      <td>0.052614</td>\n",
       "      <td>0.024322</td>\n",
       "      <td>0.509780</td>\n",
       "      <td>1.000000</td>\n",
       "      <td>0.614077</td>\n",
       "      <td>0.781539</td>\n",
       "      <td>0.119530</td>\n",
       "      <td>...</td>\n",
       "      <td>0.052614</td>\n",
       "      <td>-0.391152</td>\n",
       "      <td>-0.183023</td>\n",
       "      <td>0.011761</td>\n",
       "      <td>-0.173748</td>\n",
       "      <td>0.467110</td>\n",
       "      <td>0.250334</td>\n",
       "      <td>0.065418</td>\n",
       "      <td>-0.068604</td>\n",
       "      <td>-0.253277</td>\n",
       "    </tr>\n",
       "    <tr>\n",
       "      <td>Q2</td>\n",
       "      <td>0.007438</td>\n",
       "      <td>0.062448</td>\n",
       "      <td>-0.267730</td>\n",
       "      <td>0.042249</td>\n",
       "      <td>0.012234</td>\n",
       "      <td>0.380359</td>\n",
       "      <td>0.614077</td>\n",
       "      <td>1.000000</td>\n",
       "      <td>0.639211</td>\n",
       "      <td>-0.037799</td>\n",
       "      <td>...</td>\n",
       "      <td>0.042249</td>\n",
       "      <td>-0.280491</td>\n",
       "      <td>-0.193133</td>\n",
       "      <td>0.018540</td>\n",
       "      <td>-0.157931</td>\n",
       "      <td>0.355671</td>\n",
       "      <td>0.183948</td>\n",
       "      <td>0.067607</td>\n",
       "      <td>-0.044975</td>\n",
       "      <td>-0.211119</td>\n",
       "    </tr>\n",
       "    <tr>\n",
       "      <td>Q3</td>\n",
       "      <td>0.016252</td>\n",
       "      <td>0.087427</td>\n",
       "      <td>-0.361855</td>\n",
       "      <td>0.051745</td>\n",
       "      <td>0.019661</td>\n",
       "      <td>0.554672</td>\n",
       "      <td>0.781539</td>\n",
       "      <td>0.639211</td>\n",
       "      <td>1.000000</td>\n",
       "      <td>0.115485</td>\n",
       "      <td>...</td>\n",
       "      <td>0.051745</td>\n",
       "      <td>-0.427681</td>\n",
       "      <td>-0.200709</td>\n",
       "      <td>0.019328</td>\n",
       "      <td>-0.201448</td>\n",
       "      <td>0.508431</td>\n",
       "      <td>0.265926</td>\n",
       "      <td>0.082329</td>\n",
       "      <td>-0.073060</td>\n",
       "      <td>-0.281812</td>\n",
       "    </tr>\n",
       "    <tr>\n",
       "      <td>Q5</td>\n",
       "      <td>0.012371</td>\n",
       "      <td>-0.000868</td>\n",
       "      <td>-0.061116</td>\n",
       "      <td>0.031439</td>\n",
       "      <td>-0.001332</td>\n",
       "      <td>0.021679</td>\n",
       "      <td>0.119530</td>\n",
       "      <td>-0.037799</td>\n",
       "      <td>0.115485</td>\n",
       "      <td>1.000000</td>\n",
       "      <td>...</td>\n",
       "      <td>0.031439</td>\n",
       "      <td>-0.023727</td>\n",
       "      <td>-0.076962</td>\n",
       "      <td>0.043908</td>\n",
       "      <td>-0.013491</td>\n",
       "      <td>0.004013</td>\n",
       "      <td>0.032370</td>\n",
       "      <td>0.033893</td>\n",
       "      <td>-0.018782</td>\n",
       "      <td>-0.048695</td>\n",
       "    </tr>\n",
       "    <tr>\n",
       "      <td>Q7</td>\n",
       "      <td>0.005645</td>\n",
       "      <td>-0.106502</td>\n",
       "      <td>-0.222129</td>\n",
       "      <td>0.037726</td>\n",
       "      <td>0.021103</td>\n",
       "      <td>0.081517</td>\n",
       "      <td>0.186840</td>\n",
       "      <td>0.168506</td>\n",
       "      <td>0.203422</td>\n",
       "      <td>0.274667</td>\n",
       "      <td>...</td>\n",
       "      <td>0.037726</td>\n",
       "      <td>-0.055973</td>\n",
       "      <td>-0.080886</td>\n",
       "      <td>0.015783</td>\n",
       "      <td>-0.044610</td>\n",
       "      <td>0.076053</td>\n",
       "      <td>0.154348</td>\n",
       "      <td>0.088028</td>\n",
       "      <td>-0.067175</td>\n",
       "      <td>-0.179908</td>\n",
       "    </tr>\n",
       "    <tr>\n",
       "      <td>Q8</td>\n",
       "      <td>0.010808</td>\n",
       "      <td>-0.004970</td>\n",
       "      <td>-0.258685</td>\n",
       "      <td>0.081599</td>\n",
       "      <td>0.008862</td>\n",
       "      <td>0.105717</td>\n",
       "      <td>0.218119</td>\n",
       "      <td>0.187849</td>\n",
       "      <td>0.231544</td>\n",
       "      <td>0.277977</td>\n",
       "      <td>...</td>\n",
       "      <td>0.081599</td>\n",
       "      <td>-0.069053</td>\n",
       "      <td>-0.054463</td>\n",
       "      <td>-0.011506</td>\n",
       "      <td>-0.035658</td>\n",
       "      <td>0.105349</td>\n",
       "      <td>0.176575</td>\n",
       "      <td>0.102770</td>\n",
       "      <td>-0.066870</td>\n",
       "      <td>-0.217658</td>\n",
       "    </tr>\n",
       "    <tr>\n",
       "      <td>Q9</td>\n",
       "      <td>0.007359</td>\n",
       "      <td>0.007482</td>\n",
       "      <td>0.282716</td>\n",
       "      <td>-0.018968</td>\n",
       "      <td>-0.003217</td>\n",
       "      <td>-0.241066</td>\n",
       "      <td>-0.285651</td>\n",
       "      <td>-0.292134</td>\n",
       "      <td>-0.331299</td>\n",
       "      <td>0.175010</td>\n",
       "      <td>...</td>\n",
       "      <td>-0.018968</td>\n",
       "      <td>0.197134</td>\n",
       "      <td>0.108925</td>\n",
       "      <td>-0.042110</td>\n",
       "      <td>0.113761</td>\n",
       "      <td>-0.212292</td>\n",
       "      <td>-0.208176</td>\n",
       "      <td>-0.051496</td>\n",
       "      <td>0.045995</td>\n",
       "      <td>0.218507</td>\n",
       "    </tr>\n",
       "    <tr>\n",
       "      <td>Q17</td>\n",
       "      <td>0.020289</td>\n",
       "      <td>-0.041734</td>\n",
       "      <td>-0.260855</td>\n",
       "      <td>0.044926</td>\n",
       "      <td>-0.006291</td>\n",
       "      <td>0.298009</td>\n",
       "      <td>0.508097</td>\n",
       "      <td>0.437614</td>\n",
       "      <td>0.504754</td>\n",
       "      <td>0.153951</td>\n",
       "      <td>...</td>\n",
       "      <td>0.044926</td>\n",
       "      <td>-0.246569</td>\n",
       "      <td>-0.200212</td>\n",
       "      <td>0.083766</td>\n",
       "      <td>-0.131263</td>\n",
       "      <td>0.248093</td>\n",
       "      <td>0.154018</td>\n",
       "      <td>0.083095</td>\n",
       "      <td>-0.013414</td>\n",
       "      <td>-0.227179</td>\n",
       "    </tr>\n",
       "    <tr>\n",
       "      <td>Q18</td>\n",
       "      <td>0.018145</td>\n",
       "      <td>0.069158</td>\n",
       "      <td>-0.405065</td>\n",
       "      <td>0.078026</td>\n",
       "      <td>0.023341</td>\n",
       "      <td>0.460841</td>\n",
       "      <td>0.683834</td>\n",
       "      <td>0.539284</td>\n",
       "      <td>0.694561</td>\n",
       "      <td>0.165823</td>\n",
       "      <td>...</td>\n",
       "      <td>0.078026</td>\n",
       "      <td>-0.348446</td>\n",
       "      <td>-0.162157</td>\n",
       "      <td>0.001147</td>\n",
       "      <td>-0.162248</td>\n",
       "      <td>0.428468</td>\n",
       "      <td>0.279063</td>\n",
       "      <td>0.115758</td>\n",
       "      <td>-0.077823</td>\n",
       "      <td>-0.324202</td>\n",
       "    </tr>\n",
       "    <tr>\n",
       "      <td>Artist</td>\n",
       "      <td>0.543502</td>\n",
       "      <td>-0.000814</td>\n",
       "      <td>-0.002494</td>\n",
       "      <td>0.007211</td>\n",
       "      <td>0.001753</td>\n",
       "      <td>0.004542</td>\n",
       "      <td>0.010070</td>\n",
       "      <td>0.014401</td>\n",
       "      <td>0.019542</td>\n",
       "      <td>-0.002155</td>\n",
       "      <td>...</td>\n",
       "      <td>0.007211</td>\n",
       "      <td>0.001293</td>\n",
       "      <td>-0.003502</td>\n",
       "      <td>-0.005550</td>\n",
       "      <td>-0.011957</td>\n",
       "      <td>0.010217</td>\n",
       "      <td>-0.001833</td>\n",
       "      <td>0.006293</td>\n",
       "      <td>0.002308</td>\n",
       "      <td>-0.006738</td>\n",
       "    </tr>\n",
       "    <tr>\n",
       "      <td>Track</td>\n",
       "      <td>0.887668</td>\n",
       "      <td>0.008000</td>\n",
       "      <td>0.001086</td>\n",
       "      <td>0.014647</td>\n",
       "      <td>-0.008878</td>\n",
       "      <td>0.002271</td>\n",
       "      <td>0.009837</td>\n",
       "      <td>0.007973</td>\n",
       "      <td>0.016906</td>\n",
       "      <td>0.014378</td>\n",
       "      <td>...</td>\n",
       "      <td>0.014647</td>\n",
       "      <td>0.002620</td>\n",
       "      <td>-0.002170</td>\n",
       "      <td>-0.005452</td>\n",
       "      <td>-0.009229</td>\n",
       "      <td>0.007466</td>\n",
       "      <td>-0.011275</td>\n",
       "      <td>0.008108</td>\n",
       "      <td>0.003698</td>\n",
       "      <td>-0.000330</td>\n",
       "    </tr>\n",
       "    <tr>\n",
       "      <td>Rating</td>\n",
       "      <td>0.045866</td>\n",
       "      <td>-0.014806</td>\n",
       "      <td>-0.046341</td>\n",
       "      <td>0.023429</td>\n",
       "      <td>-0.001855</td>\n",
       "      <td>0.090389</td>\n",
       "      <td>0.125646</td>\n",
       "      <td>0.122717</td>\n",
       "      <td>0.131338</td>\n",
       "      <td>0.038506</td>\n",
       "      <td>...</td>\n",
       "      <td>0.023429</td>\n",
       "      <td>-0.068372</td>\n",
       "      <td>-0.058255</td>\n",
       "      <td>0.012382</td>\n",
       "      <td>-0.035491</td>\n",
       "      <td>0.080691</td>\n",
       "      <td>0.020706</td>\n",
       "      <td>0.025075</td>\n",
       "      <td>-0.003933</td>\n",
       "      <td>-0.042473</td>\n",
       "    </tr>\n",
       "    <tr>\n",
       "      <td>Time</td>\n",
       "      <td>-0.389286</td>\n",
       "      <td>0.008884</td>\n",
       "      <td>-0.003516</td>\n",
       "      <td>-0.010054</td>\n",
       "      <td>-0.013871</td>\n",
       "      <td>0.011925</td>\n",
       "      <td>-0.005499</td>\n",
       "      <td>-0.004224</td>\n",
       "      <td>-0.009642</td>\n",
       "      <td>-0.022764</td>\n",
       "      <td>...</td>\n",
       "      <td>-0.010054</td>\n",
       "      <td>-0.015968</td>\n",
       "      <td>-0.011480</td>\n",
       "      <td>0.014900</td>\n",
       "      <td>-0.001968</td>\n",
       "      <td>0.003191</td>\n",
       "      <td>-0.019409</td>\n",
       "      <td>0.010133</td>\n",
       "      <td>0.024943</td>\n",
       "      <td>-0.014881</td>\n",
       "    </tr>\n",
       "    <tr>\n",
       "      <td>age_q</td>\n",
       "      <td>0.008121</td>\n",
       "      <td>0.007619</td>\n",
       "      <td>0.959416</td>\n",
       "      <td>-0.006134</td>\n",
       "      <td>-0.030850</td>\n",
       "      <td>-0.227073</td>\n",
       "      <td>-0.317687</td>\n",
       "      <td>-0.250589</td>\n",
       "      <td>-0.347333</td>\n",
       "      <td>-0.057032</td>\n",
       "      <td>...</td>\n",
       "      <td>-0.006134</td>\n",
       "      <td>0.177001</td>\n",
       "      <td>0.062214</td>\n",
       "      <td>-0.003119</td>\n",
       "      <td>0.085293</td>\n",
       "      <td>-0.209947</td>\n",
       "      <td>-0.776635</td>\n",
       "      <td>-0.244155</td>\n",
       "      <td>0.259363</td>\n",
       "      <td>0.781792</td>\n",
       "    </tr>\n",
       "    <tr>\n",
       "      <td>Region 1</td>\n",
       "      <td>0.001619</td>\n",
       "      <td>-0.002625</td>\n",
       "      <td>0.023992</td>\n",
       "      <td>0.009414</td>\n",
       "      <td>-0.740031</td>\n",
       "      <td>-0.018572</td>\n",
       "      <td>-0.027735</td>\n",
       "      <td>-0.020141</td>\n",
       "      <td>-0.022304</td>\n",
       "      <td>-0.008954</td>\n",
       "      <td>...</td>\n",
       "      <td>0.009414</td>\n",
       "      <td>0.011241</td>\n",
       "      <td>0.009004</td>\n",
       "      <td>0.003730</td>\n",
       "      <td>0.006751</td>\n",
       "      <td>-0.019500</td>\n",
       "      <td>-0.038117</td>\n",
       "      <td>0.016924</td>\n",
       "      <td>0.015846</td>\n",
       "      <td>0.006183</td>\n",
       "    </tr>\n",
       "    <tr>\n",
       "      <td>Region 2</td>\n",
       "      <td>0.010940</td>\n",
       "      <td>0.013656</td>\n",
       "      <td>0.003128</td>\n",
       "      <td>0.013816</td>\n",
       "      <td>-0.214907</td>\n",
       "      <td>0.003219</td>\n",
       "      <td>0.006986</td>\n",
       "      <td>0.013542</td>\n",
       "      <td>0.005696</td>\n",
       "      <td>0.014143</td>\n",
       "      <td>...</td>\n",
       "      <td>0.013816</td>\n",
       "      <td>0.003442</td>\n",
       "      <td>-0.003227</td>\n",
       "      <td>-0.009499</td>\n",
       "      <td>-0.000177</td>\n",
       "      <td>0.007881</td>\n",
       "      <td>-0.026487</td>\n",
       "      <td>0.029801</td>\n",
       "      <td>0.012223</td>\n",
       "      <td>-0.015073</td>\n",
       "    </tr>\n",
       "    <tr>\n",
       "      <td>Region 3</td>\n",
       "      <td>0.008874</td>\n",
       "      <td>0.020472</td>\n",
       "      <td>-0.009717</td>\n",
       "      <td>0.013704</td>\n",
       "      <td>0.074774</td>\n",
       "      <td>0.003564</td>\n",
       "      <td>0.014848</td>\n",
       "      <td>0.000159</td>\n",
       "      <td>0.010508</td>\n",
       "      <td>0.003629</td>\n",
       "      <td>...</td>\n",
       "      <td>0.013704</td>\n",
       "      <td>-0.004352</td>\n",
       "      <td>-0.008795</td>\n",
       "      <td>0.006060</td>\n",
       "      <td>-0.000687</td>\n",
       "      <td>0.000544</td>\n",
       "      <td>0.001124</td>\n",
       "      <td>0.007000</td>\n",
       "      <td>0.000369</td>\n",
       "      <td>-0.008559</td>\n",
       "    </tr>\n",
       "    <tr>\n",
       "      <td>Region 4</td>\n",
       "      <td>-0.015422</td>\n",
       "      <td>-0.017451</td>\n",
       "      <td>-0.024011</td>\n",
       "      <td>-0.027495</td>\n",
       "      <td>0.928495</td>\n",
       "      <td>0.013993</td>\n",
       "      <td>0.015842</td>\n",
       "      <td>0.005995</td>\n",
       "      <td>0.013085</td>\n",
       "      <td>-0.006698</td>\n",
       "      <td>...</td>\n",
       "      <td>-0.027495</td>\n",
       "      <td>-0.013331</td>\n",
       "      <td>-0.002983</td>\n",
       "      <td>0.004233</td>\n",
       "      <td>-0.006282</td>\n",
       "      <td>0.011038</td>\n",
       "      <td>0.064401</td>\n",
       "      <td>-0.049271</td>\n",
       "      <td>-0.028261</td>\n",
       "      <td>0.011849</td>\n",
       "    </tr>\n",
       "    <tr>\n",
       "      <td>Working 1</td>\n",
       "      <td>-0.021493</td>\n",
       "      <td>-0.189947</td>\n",
       "      <td>0.017756</td>\n",
       "      <td>-1.000000</td>\n",
       "      <td>0.023072</td>\n",
       "      <td>-0.038034</td>\n",
       "      <td>-0.052614</td>\n",
       "      <td>-0.042249</td>\n",
       "      <td>-0.051745</td>\n",
       "      <td>-0.031439</td>\n",
       "      <td>...</td>\n",
       "      <td>-1.000000</td>\n",
       "      <td>0.033514</td>\n",
       "      <td>0.017961</td>\n",
       "      <td>-0.012256</td>\n",
       "      <td>0.023943</td>\n",
       "      <td>-0.032295</td>\n",
       "      <td>0.211362</td>\n",
       "      <td>-0.261917</td>\n",
       "      <td>-0.135405</td>\n",
       "      <td>0.181617</td>\n",
       "    </tr>\n",
       "    <tr>\n",
       "      <td>Working 2</td>\n",
       "      <td>0.021493</td>\n",
       "      <td>0.189947</td>\n",
       "      <td>-0.017756</td>\n",
       "      <td>1.000000</td>\n",
       "      <td>-0.023072</td>\n",
       "      <td>0.038034</td>\n",
       "      <td>0.052614</td>\n",
       "      <td>0.042249</td>\n",
       "      <td>0.051745</td>\n",
       "      <td>0.031439</td>\n",
       "      <td>...</td>\n",
       "      <td>1.000000</td>\n",
       "      <td>-0.033514</td>\n",
       "      <td>-0.017961</td>\n",
       "      <td>0.012256</td>\n",
       "      <td>-0.023943</td>\n",
       "      <td>0.032295</td>\n",
       "      <td>-0.211362</td>\n",
       "      <td>0.261917</td>\n",
       "      <td>0.135405</td>\n",
       "      <td>-0.181617</td>\n",
       "    </tr>\n",
       "    <tr>\n",
       "      <td>Music 1</td>\n",
       "      <td>0.003270</td>\n",
       "      <td>-0.028998</td>\n",
       "      <td>0.185875</td>\n",
       "      <td>-0.033514</td>\n",
       "      <td>-0.014964</td>\n",
       "      <td>-0.809307</td>\n",
       "      <td>-0.391152</td>\n",
       "      <td>-0.280491</td>\n",
       "      <td>-0.427681</td>\n",
       "      <td>-0.023727</td>\n",
       "      <td>...</td>\n",
       "      <td>-0.033514</td>\n",
       "      <td>1.000000</td>\n",
       "      <td>-0.080499</td>\n",
       "      <td>-0.451182</td>\n",
       "      <td>-0.101018</td>\n",
       "      <td>-0.379555</td>\n",
       "      <td>-0.129934</td>\n",
       "      <td>-0.048537</td>\n",
       "      <td>0.033395</td>\n",
       "      <td>0.148324</td>\n",
       "    </tr>\n",
       "    <tr>\n",
       "      <td>Muisc 2</td>\n",
       "      <td>0.000018</td>\n",
       "      <td>0.037533</td>\n",
       "      <td>0.067106</td>\n",
       "      <td>-0.017961</td>\n",
       "      <td>-0.006693</td>\n",
       "      <td>-0.112223</td>\n",
       "      <td>-0.183023</td>\n",
       "      <td>-0.193133</td>\n",
       "      <td>-0.200709</td>\n",
       "      <td>-0.076962</td>\n",
       "      <td>...</td>\n",
       "      <td>-0.017961</td>\n",
       "      <td>-0.080499</td>\n",
       "      <td>1.000000</td>\n",
       "      <td>-0.116214</td>\n",
       "      <td>-0.026020</td>\n",
       "      <td>-0.097765</td>\n",
       "      <td>-0.034732</td>\n",
       "      <td>-0.025502</td>\n",
       "      <td>-0.004965</td>\n",
       "      <td>0.065862</td>\n",
       "    </tr>\n",
       "    <tr>\n",
       "      <td>Music 3</td>\n",
       "      <td>-0.004989</td>\n",
       "      <td>-0.042839</td>\n",
       "      <td>-0.006254</td>\n",
       "      <td>0.012256</td>\n",
       "      <td>0.002521</td>\n",
       "      <td>-0.089606</td>\n",
       "      <td>0.011761</td>\n",
       "      <td>0.018540</td>\n",
       "      <td>0.019328</td>\n",
       "      <td>0.043908</td>\n",
       "      <td>...</td>\n",
       "      <td>0.012256</td>\n",
       "      <td>-0.451182</td>\n",
       "      <td>-0.116214</td>\n",
       "      <td>1.000000</td>\n",
       "      <td>-0.145836</td>\n",
       "      <td>-0.547952</td>\n",
       "      <td>-0.011742</td>\n",
       "      <td>0.011793</td>\n",
       "      <td>0.020609</td>\n",
       "      <td>-0.020109</td>\n",
       "    </tr>\n",
       "    <tr>\n",
       "      <td>Music 4</td>\n",
       "      <td>-0.009283</td>\n",
       "      <td>-0.021207</td>\n",
       "      <td>0.088569</td>\n",
       "      <td>-0.023943</td>\n",
       "      <td>-0.007446</td>\n",
       "      <td>0.100703</td>\n",
       "      <td>-0.173748</td>\n",
       "      <td>-0.157931</td>\n",
       "      <td>-0.201448</td>\n",
       "      <td>-0.013491</td>\n",
       "      <td>...</td>\n",
       "      <td>-0.023943</td>\n",
       "      <td>-0.101018</td>\n",
       "      <td>-0.026020</td>\n",
       "      <td>-0.145836</td>\n",
       "      <td>1.000000</td>\n",
       "      <td>-0.122684</td>\n",
       "      <td>-0.069916</td>\n",
       "      <td>-0.012953</td>\n",
       "      <td>0.017351</td>\n",
       "      <td>0.067147</td>\n",
       "    </tr>\n",
       "    <tr>\n",
       "      <td>Music 5</td>\n",
       "      <td>0.005740</td>\n",
       "      <td>0.068221</td>\n",
       "      <td>-0.217501</td>\n",
       "      <td>0.032295</td>\n",
       "      <td>0.015899</td>\n",
       "      <td>0.832127</td>\n",
       "      <td>0.467110</td>\n",
       "      <td>0.355671</td>\n",
       "      <td>0.508431</td>\n",
       "      <td>0.004013</td>\n",
       "      <td>...</td>\n",
       "      <td>0.032295</td>\n",
       "      <td>-0.379555</td>\n",
       "      <td>-0.097765</td>\n",
       "      <td>-0.547952</td>\n",
       "      <td>-0.122684</td>\n",
       "      <td>1.000000</td>\n",
       "      <td>0.168304</td>\n",
       "      <td>0.044701</td>\n",
       "      <td>-0.057307</td>\n",
       "      <td>-0.160070</td>\n",
       "    </tr>\n",
       "    <tr>\n",
       "      <td>Age 1</td>\n",
       "      <td>-0.019868</td>\n",
       "      <td>-0.003797</td>\n",
       "      <td>-0.739741</td>\n",
       "      <td>-0.211362</td>\n",
       "      <td>0.063899</td>\n",
       "      <td>0.173617</td>\n",
       "      <td>0.250334</td>\n",
       "      <td>0.183948</td>\n",
       "      <td>0.265926</td>\n",
       "      <td>0.032370</td>\n",
       "      <td>...</td>\n",
       "      <td>-0.211362</td>\n",
       "      <td>-0.129934</td>\n",
       "      <td>-0.034732</td>\n",
       "      <td>-0.011742</td>\n",
       "      <td>-0.069916</td>\n",
       "      <td>0.168304</td>\n",
       "      <td>1.000000</td>\n",
       "      <td>-0.348796</td>\n",
       "      <td>-0.328777</td>\n",
       "      <td>-0.343231</td>\n",
       "    </tr>\n",
       "    <tr>\n",
       "      <td>Age 2</td>\n",
       "      <td>0.017150</td>\n",
       "      <td>-0.002598</td>\n",
       "      <td>-0.224629</td>\n",
       "      <td>0.261917</td>\n",
       "      <td>-0.043362</td>\n",
       "      <td>0.056290</td>\n",
       "      <td>0.065418</td>\n",
       "      <td>0.067607</td>\n",
       "      <td>0.082329</td>\n",
       "      <td>0.033893</td>\n",
       "      <td>...</td>\n",
       "      <td>0.261917</td>\n",
       "      <td>-0.048537</td>\n",
       "      <td>-0.025502</td>\n",
       "      <td>0.011793</td>\n",
       "      <td>-0.012953</td>\n",
       "      <td>0.044701</td>\n",
       "      <td>-0.348796</td>\n",
       "      <td>1.000000</td>\n",
       "      <td>-0.323202</td>\n",
       "      <td>-0.337411</td>\n",
       "    </tr>\n",
       "    <tr>\n",
       "      <td>Age 3</td>\n",
       "      <td>0.004945</td>\n",
       "      <td>-0.003114</td>\n",
       "      <td>0.212255</td>\n",
       "      <td>0.135405</td>\n",
       "      <td>-0.027610</td>\n",
       "      <td>-0.052113</td>\n",
       "      <td>-0.068604</td>\n",
       "      <td>-0.044975</td>\n",
       "      <td>-0.073060</td>\n",
       "      <td>-0.018782</td>\n",
       "      <td>...</td>\n",
       "      <td>0.135405</td>\n",
       "      <td>0.033395</td>\n",
       "      <td>-0.004965</td>\n",
       "      <td>0.020609</td>\n",
       "      <td>0.017351</td>\n",
       "      <td>-0.057307</td>\n",
       "      <td>-0.328777</td>\n",
       "      <td>-0.323202</td>\n",
       "      <td>1.000000</td>\n",
       "      <td>-0.318045</td>\n",
       "    </tr>\n",
       "    <tr>\n",
       "      <td>Age 4</td>\n",
       "      <td>-0.001930</td>\n",
       "      <td>0.009523</td>\n",
       "      <td>0.770683</td>\n",
       "      <td>-0.181617</td>\n",
       "      <td>0.005767</td>\n",
       "      <td>-0.182231</td>\n",
       "      <td>-0.253277</td>\n",
       "      <td>-0.211119</td>\n",
       "      <td>-0.281812</td>\n",
       "      <td>-0.048695</td>\n",
       "      <td>...</td>\n",
       "      <td>-0.181617</td>\n",
       "      <td>0.148324</td>\n",
       "      <td>0.065862</td>\n",
       "      <td>-0.020109</td>\n",
       "      <td>0.067147</td>\n",
       "      <td>-0.160070</td>\n",
       "      <td>-0.343231</td>\n",
       "      <td>-0.337411</td>\n",
       "      <td>-0.318045</td>\n",
       "      <td>1.000000</td>\n",
       "    </tr>\n",
       "  </tbody>\n",
       "</table>\n",
       "<p>35 rows × 35 columns</p>\n",
       "</div>"
      ],
      "text/plain": [
       "             RESPID    GENDER       AGE   WORKING    REGION     MUSIC  \\\n",
       "RESPID     1.000000  0.005701  0.003696  0.021493 -0.011421  0.000616   \n",
       "GENDER     0.005701  1.000000  0.007905  0.189947 -0.010051  0.052868   \n",
       "AGE        0.003696  0.007905  1.000000 -0.017756 -0.028582 -0.236896   \n",
       "WORKING    0.021493  0.189947 -0.017756  1.000000 -0.023072  0.038034   \n",
       "REGION    -0.011421 -0.010051 -0.028582 -0.023072  1.000000  0.018155   \n",
       "MUSIC      0.000616  0.052868 -0.236896  0.038034  0.018155  1.000000   \n",
       "Q1         0.013190  0.107461 -0.331269  0.052614  0.024322  0.509780   \n",
       "Q2         0.007438  0.062448 -0.267730  0.042249  0.012234  0.380359   \n",
       "Q3         0.016252  0.087427 -0.361855  0.051745  0.019661  0.554672   \n",
       "Q5         0.012371 -0.000868 -0.061116  0.031439 -0.001332  0.021679   \n",
       "Q7         0.005645 -0.106502 -0.222129  0.037726  0.021103  0.081517   \n",
       "Q8         0.010808 -0.004970 -0.258685  0.081599  0.008862  0.105717   \n",
       "Q9         0.007359  0.007482  0.282716 -0.018968 -0.003217 -0.241066   \n",
       "Q17        0.020289 -0.041734 -0.260855  0.044926 -0.006291  0.298009   \n",
       "Q18        0.018145  0.069158 -0.405065  0.078026  0.023341  0.460841   \n",
       "Artist     0.543502 -0.000814 -0.002494  0.007211  0.001753  0.004542   \n",
       "Track      0.887668  0.008000  0.001086  0.014647 -0.008878  0.002271   \n",
       "Rating     0.045866 -0.014806 -0.046341  0.023429 -0.001855  0.090389   \n",
       "Time      -0.389286  0.008884 -0.003516 -0.010054 -0.013871  0.011925   \n",
       "age_q      0.008121  0.007619  0.959416 -0.006134 -0.030850 -0.227073   \n",
       "Region 1   0.001619 -0.002625  0.023992  0.009414 -0.740031 -0.018572   \n",
       "Region 2   0.010940  0.013656  0.003128  0.013816 -0.214907  0.003219   \n",
       "Region 3   0.008874  0.020472 -0.009717  0.013704  0.074774  0.003564   \n",
       "Region 4  -0.015422 -0.017451 -0.024011 -0.027495  0.928495  0.013993   \n",
       "Working 1 -0.021493 -0.189947  0.017756 -1.000000  0.023072 -0.038034   \n",
       "Working 2  0.021493  0.189947 -0.017756  1.000000 -0.023072  0.038034   \n",
       "Music 1    0.003270 -0.028998  0.185875 -0.033514 -0.014964 -0.809307   \n",
       "Muisc 2    0.000018  0.037533  0.067106 -0.017961 -0.006693 -0.112223   \n",
       "Music 3   -0.004989 -0.042839 -0.006254  0.012256  0.002521 -0.089606   \n",
       "Music 4   -0.009283 -0.021207  0.088569 -0.023943 -0.007446  0.100703   \n",
       "Music 5    0.005740  0.068221 -0.217501  0.032295  0.015899  0.832127   \n",
       "Age 1     -0.019868 -0.003797 -0.739741 -0.211362  0.063899  0.173617   \n",
       "Age 2      0.017150 -0.002598 -0.224629  0.261917 -0.043362  0.056290   \n",
       "Age 3      0.004945 -0.003114  0.212255  0.135405 -0.027610 -0.052113   \n",
       "Age 4     -0.001930  0.009523  0.770683 -0.181617  0.005767 -0.182231   \n",
       "\n",
       "                 Q1        Q2        Q3        Q5  ...  Working 2   Music 1  \\\n",
       "RESPID     0.013190  0.007438  0.016252  0.012371  ...   0.021493  0.003270   \n",
       "GENDER     0.107461  0.062448  0.087427 -0.000868  ...   0.189947 -0.028998   \n",
       "AGE       -0.331269 -0.267730 -0.361855 -0.061116  ...  -0.017756  0.185875   \n",
       "WORKING    0.052614  0.042249  0.051745  0.031439  ...   1.000000 -0.033514   \n",
       "REGION     0.024322  0.012234  0.019661 -0.001332  ...  -0.023072 -0.014964   \n",
       "MUSIC      0.509780  0.380359  0.554672  0.021679  ...   0.038034 -0.809307   \n",
       "Q1         1.000000  0.614077  0.781539  0.119530  ...   0.052614 -0.391152   \n",
       "Q2         0.614077  1.000000  0.639211 -0.037799  ...   0.042249 -0.280491   \n",
       "Q3         0.781539  0.639211  1.000000  0.115485  ...   0.051745 -0.427681   \n",
       "Q5         0.119530 -0.037799  0.115485  1.000000  ...   0.031439 -0.023727   \n",
       "Q7         0.186840  0.168506  0.203422  0.274667  ...   0.037726 -0.055973   \n",
       "Q8         0.218119  0.187849  0.231544  0.277977  ...   0.081599 -0.069053   \n",
       "Q9        -0.285651 -0.292134 -0.331299  0.175010  ...  -0.018968  0.197134   \n",
       "Q17        0.508097  0.437614  0.504754  0.153951  ...   0.044926 -0.246569   \n",
       "Q18        0.683834  0.539284  0.694561  0.165823  ...   0.078026 -0.348446   \n",
       "Artist     0.010070  0.014401  0.019542 -0.002155  ...   0.007211  0.001293   \n",
       "Track      0.009837  0.007973  0.016906  0.014378  ...   0.014647  0.002620   \n",
       "Rating     0.125646  0.122717  0.131338  0.038506  ...   0.023429 -0.068372   \n",
       "Time      -0.005499 -0.004224 -0.009642 -0.022764  ...  -0.010054 -0.015968   \n",
       "age_q     -0.317687 -0.250589 -0.347333 -0.057032  ...  -0.006134  0.177001   \n",
       "Region 1  -0.027735 -0.020141 -0.022304 -0.008954  ...   0.009414  0.011241   \n",
       "Region 2   0.006986  0.013542  0.005696  0.014143  ...   0.013816  0.003442   \n",
       "Region 3   0.014848  0.000159  0.010508  0.003629  ...   0.013704 -0.004352   \n",
       "Region 4   0.015842  0.005995  0.013085 -0.006698  ...  -0.027495 -0.013331   \n",
       "Working 1 -0.052614 -0.042249 -0.051745 -0.031439  ...  -1.000000  0.033514   \n",
       "Working 2  0.052614  0.042249  0.051745  0.031439  ...   1.000000 -0.033514   \n",
       "Music 1   -0.391152 -0.280491 -0.427681 -0.023727  ...  -0.033514  1.000000   \n",
       "Muisc 2   -0.183023 -0.193133 -0.200709 -0.076962  ...  -0.017961 -0.080499   \n",
       "Music 3    0.011761  0.018540  0.019328  0.043908  ...   0.012256 -0.451182   \n",
       "Music 4   -0.173748 -0.157931 -0.201448 -0.013491  ...  -0.023943 -0.101018   \n",
       "Music 5    0.467110  0.355671  0.508431  0.004013  ...   0.032295 -0.379555   \n",
       "Age 1      0.250334  0.183948  0.265926  0.032370  ...  -0.211362 -0.129934   \n",
       "Age 2      0.065418  0.067607  0.082329  0.033893  ...   0.261917 -0.048537   \n",
       "Age 3     -0.068604 -0.044975 -0.073060 -0.018782  ...   0.135405  0.033395   \n",
       "Age 4     -0.253277 -0.211119 -0.281812 -0.048695  ...  -0.181617  0.148324   \n",
       "\n",
       "            Muisc 2   Music 3   Music 4   Music 5     Age 1     Age 2  \\\n",
       "RESPID     0.000018 -0.004989 -0.009283  0.005740 -0.019868  0.017150   \n",
       "GENDER     0.037533 -0.042839 -0.021207  0.068221 -0.003797 -0.002598   \n",
       "AGE        0.067106 -0.006254  0.088569 -0.217501 -0.739741 -0.224629   \n",
       "WORKING   -0.017961  0.012256 -0.023943  0.032295 -0.211362  0.261917   \n",
       "REGION    -0.006693  0.002521 -0.007446  0.015899  0.063899 -0.043362   \n",
       "MUSIC     -0.112223 -0.089606  0.100703  0.832127  0.173617  0.056290   \n",
       "Q1        -0.183023  0.011761 -0.173748  0.467110  0.250334  0.065418   \n",
       "Q2        -0.193133  0.018540 -0.157931  0.355671  0.183948  0.067607   \n",
       "Q3        -0.200709  0.019328 -0.201448  0.508431  0.265926  0.082329   \n",
       "Q5        -0.076962  0.043908 -0.013491  0.004013  0.032370  0.033893   \n",
       "Q7        -0.080886  0.015783 -0.044610  0.076053  0.154348  0.088028   \n",
       "Q8        -0.054463 -0.011506 -0.035658  0.105349  0.176575  0.102770   \n",
       "Q9         0.108925 -0.042110  0.113761 -0.212292 -0.208176 -0.051496   \n",
       "Q17       -0.200212  0.083766 -0.131263  0.248093  0.154018  0.083095   \n",
       "Q18       -0.162157  0.001147 -0.162248  0.428468  0.279063  0.115758   \n",
       "Artist    -0.003502 -0.005550 -0.011957  0.010217 -0.001833  0.006293   \n",
       "Track     -0.002170 -0.005452 -0.009229  0.007466 -0.011275  0.008108   \n",
       "Rating    -0.058255  0.012382 -0.035491  0.080691  0.020706  0.025075   \n",
       "Time      -0.011480  0.014900 -0.001968  0.003191 -0.019409  0.010133   \n",
       "age_q      0.062214 -0.003119  0.085293 -0.209947 -0.776635 -0.244155   \n",
       "Region 1   0.009004  0.003730  0.006751 -0.019500 -0.038117  0.016924   \n",
       "Region 2  -0.003227 -0.009499 -0.000177  0.007881 -0.026487  0.029801   \n",
       "Region 3  -0.008795  0.006060 -0.000687  0.000544  0.001124  0.007000   \n",
       "Region 4  -0.002983  0.004233 -0.006282  0.011038  0.064401 -0.049271   \n",
       "Working 1  0.017961 -0.012256  0.023943 -0.032295  0.211362 -0.261917   \n",
       "Working 2 -0.017961  0.012256 -0.023943  0.032295 -0.211362  0.261917   \n",
       "Music 1   -0.080499 -0.451182 -0.101018 -0.379555 -0.129934 -0.048537   \n",
       "Muisc 2    1.000000 -0.116214 -0.026020 -0.097765 -0.034732 -0.025502   \n",
       "Music 3   -0.116214  1.000000 -0.145836 -0.547952 -0.011742  0.011793   \n",
       "Music 4   -0.026020 -0.145836  1.000000 -0.122684 -0.069916 -0.012953   \n",
       "Music 5   -0.097765 -0.547952 -0.122684  1.000000  0.168304  0.044701   \n",
       "Age 1     -0.034732 -0.011742 -0.069916  0.168304  1.000000 -0.348796   \n",
       "Age 2     -0.025502  0.011793 -0.012953  0.044701 -0.348796  1.000000   \n",
       "Age 3     -0.004965  0.020609  0.017351 -0.057307 -0.328777 -0.323202   \n",
       "Age 4      0.065862 -0.020109  0.067147 -0.160070 -0.343231 -0.337411   \n",
       "\n",
       "              Age 3     Age 4  \n",
       "RESPID     0.004945 -0.001930  \n",
       "GENDER    -0.003114  0.009523  \n",
       "AGE        0.212255  0.770683  \n",
       "WORKING    0.135405 -0.181617  \n",
       "REGION    -0.027610  0.005767  \n",
       "MUSIC     -0.052113 -0.182231  \n",
       "Q1        -0.068604 -0.253277  \n",
       "Q2        -0.044975 -0.211119  \n",
       "Q3        -0.073060 -0.281812  \n",
       "Q5        -0.018782 -0.048695  \n",
       "Q7        -0.067175 -0.179908  \n",
       "Q8        -0.066870 -0.217658  \n",
       "Q9         0.045995  0.218507  \n",
       "Q17       -0.013414 -0.227179  \n",
       "Q18       -0.077823 -0.324202  \n",
       "Artist     0.002308 -0.006738  \n",
       "Track      0.003698 -0.000330  \n",
       "Rating    -0.003933 -0.042473  \n",
       "Time       0.024943 -0.014881  \n",
       "age_q      0.259363  0.781792  \n",
       "Region 1   0.015846  0.006183  \n",
       "Region 2   0.012223 -0.015073  \n",
       "Region 3   0.000369 -0.008559  \n",
       "Region 4  -0.028261  0.011849  \n",
       "Working 1 -0.135405  0.181617  \n",
       "Working 2  0.135405 -0.181617  \n",
       "Music 1    0.033395  0.148324  \n",
       "Muisc 2   -0.004965  0.065862  \n",
       "Music 3    0.020609 -0.020109  \n",
       "Music 4    0.017351  0.067147  \n",
       "Music 5   -0.057307 -0.160070  \n",
       "Age 1     -0.328777 -0.343231  \n",
       "Age 2     -0.323202 -0.337411  \n",
       "Age 3      1.000000 -0.318045  \n",
       "Age 4     -0.318045  1.000000  \n",
       "\n",
       "[35 rows x 35 columns]"
      ]
     },
     "execution_count": 336,
     "metadata": {},
     "output_type": "execute_result"
    }
   ],
   "source": [
    "master_df_dummy.corr()"
   ]
  },
  {
   "cell_type": "code",
   "execution_count": 341,
   "metadata": {},
   "outputs": [],
   "source": [
    "cont_features = ['Q1', 'Q2',\n",
    "       'Q3', 'Q5', 'Q7', 'Q8', 'Q9', 'Q17', 'Q18']"
   ]
  },
  {
   "cell_type": "code",
   "execution_count": 343,
   "metadata": {},
   "outputs": [
    {
     "data": {
      "text/plain": [
       "<matplotlib.axes._subplots.AxesSubplot at 0x1a49f21898>"
      ]
     },
     "execution_count": 343,
     "metadata": {},
     "output_type": "execute_result"
    },
    {
     "data": {
      "image/png": "[encoded data removed]",
      "text/plain": [
       "<Figure size 1080x720 with 2 Axes>"
      ]
     },
     "metadata": {},
     "output_type": "display_data"
    }
   ],
   "source": [
    "plt.figure(figsize=(15,10))\n",
    "\n",
    "sns.set(style=\"white\")\n",
    "\n",
    "# Generate a mask for the upper triangle\n",
    "mask = np.zeros_like(master_df_dummy[cont_features].corr(), dtype=np.bool)\n",
    "mask[np.triu_indices_from(mask)] = True\n",
    "\n",
    "# Generate a custom diverging colormap\n",
    "cmap = sns.diverging_palette(220, 10, as_cmap=True)\n",
    "\n",
    "\n",
    "sns.heatmap(master_df_dummy[cont_features].corr(), mask=mask, cmap=cmap, vmax=.95, center=0,\n",
    "            square=True, linewidths=.5, cbar_kws={\"shrink\": .5})"
   ]
  },
  {
   "cell_type": "markdown",
   "metadata": {},
   "source": [
    "# Model Fitting and Hyperparameter Tuning"
   ]
  },
  {
   "cell_type": "markdown",
   "metadata": {},
   "source": [
    "## #KNN"
   ]
  },
  {
   "cell_type": "code",
   "execution_count": 302,
   "metadata": {},
   "outputs": [],
   "source": [
    "#X and Y from DF\n",
    "def x_y(df):\n",
    "    X = df.drop(columns=['Rating'], axis=1)\n",
    "    y = df['Rating']\n",
    "    return X, y"
   ]
  },
  {
   "cell_type": "code",
   "execution_count": 303,
   "metadata": {},
   "outputs": [],
   "source": [
    "# X = merged_df.drop(columns=['Rating'], axis = 1)\n",
    "# y = merged_df['Rating']"
   ]
  },
  {
   "cell_type": "code",
   "execution_count": 304,
   "metadata": {},
   "outputs": [],
   "source": [
    "#ALL DUMMY VARIABLES\n",
    "X, y = x_y(master_df_dummy)"
   ]
  },
  {
   "cell_type": "code",
   "execution_count": 328,
   "metadata": {},
   "outputs": [],
   "source": [
    "#TTS WITH CERTAIN DUMMY VARIABLES\n",
    "music_x, music_y = x_y(merged_df_music)\n",
    "region_x, region_y = x_y(merged_df_region)\n",
    "age_x, age_y = x_y(merged_df_age)"
   ]
  },
  {
   "cell_type": "code",
   "execution_count": 305,
   "metadata": {},
   "outputs": [],
   "source": [
    "from sklearn.model_selection import train_test_split\n",
    "from sklearn.neighbors import KNeighborsClassifier\n",
    "X_train, X_test, y_train, y_test = train_test_split(X, y, random_state=42)"
   ]
  },
  {
   "cell_type": "code",
   "execution_count": 306,
   "metadata": {},
   "outputs": [],
   "source": [
    "from sklearn.preprocessing import StandardScaler\n",
    "from sklearn.preprocessing import MinMaxScaler\n",
    "\n",
    "scaler = StandardScaler()  \n",
    "scaler.fit(X_train)\n",
    "\n",
    "X_train = scaler.transform(X_train)  \n",
    "X_test = scaler.transform(X_test) "
   ]
  },
  {
   "cell_type": "code",
   "execution_count": 307,
   "metadata": {},
   "outputs": [],
   "source": [
    "#KNN GRIDSEARCH\n",
    "def knn_grid(x_train, y_train, n = [3, 5], cv=0, n_jobs=-1):\n",
    "    from sklearn.model_selection import GridSearchCV\n",
    "\n",
    "    grid_params = {'n_neighbors' : n,\n",
    "                   'weights' : ['uniform', 'distance'],\n",
    "                   'metric' : ['euclidean', 'manhattan']\n",
    "\n",
    "    }\n",
    "\n",
    "    gs = GridSearchCV(KNeighborsClassifier(),\n",
    "                      grid_params,\n",
    "                      verbose = 1,\n",
    "                      cv = 5,\n",
    "                      n_jobs = n_jobs,\n",
    "                      scoring='f1')\n",
    "    gs_results = gs.fit(X_train, y_train)\n",
    "    \n",
    "    print('Best Parameters : ', gs_results.best_params_)\n",
    "    print('Best F1 Score: ', gs_results.best_score_)"
   ]
  },
  {
   "cell_type": "markdown",
   "metadata": {},
   "source": [
    "###  KNN BEST SCORE + RESULTS"
   ]
  },
  {
   "cell_type": "code",
   "execution_count": 308,
   "metadata": {},
   "outputs": [
    {
     "name": "stdout",
     "output_type": "stream",
     "text": [
      "Fitting 5 folds for each of 12 candidates, totalling 60 fits\n"
     ]
    },
    {
     "name": "stderr",
     "output_type": "stream",
     "text": [
      "[Parallel(n_jobs=-1)]: Using backend LokyBackend with 4 concurrent workers.\n",
      "[Parallel(n_jobs=-1)]: Done  42 tasks      | elapsed:  2.1min\n",
      "[Parallel(n_jobs=-1)]: Done  60 out of  60 | elapsed:  2.8min finished\n"
     ]
    },
    {
     "name": "stdout",
     "output_type": "stream",
     "text": [
      "Best Parameters :  {'metric': 'manhattan', 'n_neighbors': 3, 'weights': 'distance'}\n",
      "Best F1 Score:  0.26913050971982894\n"
     ]
    }
   ],
   "source": [
    "knn_grid(X_train, y_train, n=[3,5,7], cv =3)"
   ]
  },
  {
   "cell_type": "code",
   "execution_count": null,
   "metadata": {},
   "outputs": [],
   "source": [
    "knn_grid(music_x, music_y, n=[3,5,7], cv =3)"
   ]
  },
  {
   "cell_type": "markdown",
   "metadata": {},
   "source": [
    "## Random Forest"
   ]
  },
  {
   "cell_type": "code",
   "execution_count": 309,
   "metadata": {},
   "outputs": [],
   "source": [
    "#GRIDSEARCH RANDOM FOREST\n",
    "def random_forest_grid(X_train, X_test, y_train, y_test,estimators=[400,500], depth=[], features=[], cv=0):\n",
    "    from sklearn.ensemble import RandomForestClassifier\n",
    "    from sklearn.dummy import DummyClassifier\n",
    "    from sklearn.metrics import accuracy_score, f1_score\n",
    "\n",
    "    param_grid = { \n",
    "    'n_estimators': estimators,\n",
    "    'max_depth': depth,\n",
    "    'criterion': ['entropy', 'gini'],\n",
    "    'max_features' : features\n",
    "}\n",
    "    #create a grid search object and fit it to the data\n",
    "    CV_rfc = GridSearchCV(RandomForestClassifier(), param_grid=param_grid,verbose=1, cv=cv,n_jobs=-1, scoring= 'f1')\n",
    "    CV_rfc.fit(X_train, y_train)\n",
    "    \n",
    "    ### Identify the best params \n",
    "    print(CV_rfc.best_params_)\n",
    "\n",
    "\n",
    "    #Identify the best score during fitting with cross-validation\n",
    "    print(CV_rfc.best_score_)\n",
    "    #predict on the test set\n",
    "\n",
    "    rfc_pred = CV_rfc.best_estimator_.predict(X_test)\n",
    "    # checking accuracy\n",
    "    print('Test Accuracy score: ', accuracy_score(y_test, rfc_pred))\n",
    "\n",
    "\n",
    "    # checking accuracy\n",
    "    print('Test F1 score: ', f1_score(y_test, rfc_pred))"
   ]
  },
  {
   "cell_type": "markdown",
   "metadata": {},
   "source": [
    "### Random Forest Best Results"
   ]
  },
  {
   "cell_type": "code",
   "execution_count": 310,
   "metadata": {},
   "outputs": [
    {
     "name": "stdout",
     "output_type": "stream",
     "text": [
      "Fitting 3 folds for each of 54 candidates, totalling 162 fits\n"
     ]
    },
    {
     "name": "stderr",
     "output_type": "stream",
     "text": [
      "[Parallel(n_jobs=-1)]: Using backend LokyBackend with 4 concurrent workers.\n",
      "[Parallel(n_jobs=-1)]: Done  42 tasks      | elapsed:  2.3min\n",
      "[Parallel(n_jobs=-1)]: Done 162 out of 162 | elapsed: 11.9min finished\n"
     ]
    },
    {
     "name": "stdout",
     "output_type": "stream",
     "text": [
      "{'criterion': 'gini', 'max_depth': 5, 'max_features': 20, 'n_estimators': 400}\n",
      "0.09997178696654335\n",
      "Test Accuracy score:  0.7686162194754296\n",
      "Test F1 score:  0.1361845807540799\n"
     ]
    }
   ],
   "source": [
    "random_forest_grid(X_train, X_test, y_train, y_test, estimators=[400,450,500],depth=[3,4,5], features=[10,15,20], cv=3)"
   ]
  },
  {
   "cell_type": "code",
   "execution_count": null,
   "metadata": {},
   "outputs": [],
   "source": [
    "random_forest_grid(music_x, music, y_train, y_test, estimators=[300,350,400],depth=[3,4,5], features=[10,15,20], cv=3)"
   ]
  },
  {
   "cell_type": "markdown",
   "metadata": {},
   "source": [
    "##  XGBOOST"
   ]
  },
  {
   "cell_type": "code",
   "execution_count": 315,
   "metadata": {},
   "outputs": [],
   "source": [
    "xg_clf = xgb.XGBClassifier(objective ='binary:logistic', \n",
    "                           colsample_bytree = 0.3, \n",
    "                           subsample = 0.5,\n",
    "                           learning_rate = .01,\n",
    "                           max_depth = 3, \n",
    "                           alpha = 1, \n",
    "                           #scale_pos_weight= titanic['Survived'].mean(),\n",
    "                           n_estimators = 500)"
   ]
  },
  {
   "cell_type": "code",
   "execution_count": 316,
   "metadata": {},
   "outputs": [
    {
     "data": {
      "text/plain": [
       "XGBClassifier(alpha=1, base_score=0.5, booster='gbtree', colsample_bylevel=1,\n",
       "              colsample_bynode=1, colsample_bytree=0.3, gamma=0,\n",
       "              learning_rate=0.01, max_delta_step=0, max_depth=3,\n",
       "              min_child_weight=1, missing=None, n_estimators=500, n_jobs=1,\n",
       "              nthread=None, objective='binary:logistic', random_state=0,\n",
       "              reg_alpha=0, reg_lambda=1, scale_pos_weight=1, seed=None,\n",
       "              silent=None, subsample=0.5, verbosity=1)"
      ]
     },
     "execution_count": 316,
     "metadata": {},
     "output_type": "execute_result"
    }
   ],
   "source": [
    "xg_clf.fit(X_train,y_train)"
   ]
  },
  {
   "cell_type": "code",
   "execution_count": 317,
   "metadata": {},
   "outputs": [
    {
     "name": "stdout",
     "output_type": "stream",
     "text": [
      "Accuracy: 0.768013\n",
      "F1: 0.137815\n"
     ]
    }
   ],
   "source": [
    "preds = xg_clf.predict(X_test)\n",
    "\n",
    "\n",
    "test_f1 = f1_score(y_test, preds)\n",
    "test_acc = accuracy_score(y_test, preds)\n",
    "\n",
    "print(\"Accuracy: %f\" % (test_acc))\n",
    "print(\"F1: %f\" % (test_f1))"
   ]
  },
  {
   "cell_type": "code",
   "execution_count": 318,
   "metadata": {},
   "outputs": [],
   "source": [
    "from sklearn.ensemble import RandomForestClassifier\n",
    "from sklearn.dummy import DummyClassifier\n",
    "from sklearn.metrics import accuracy_score, f1_score"
   ]
  },
  {
   "cell_type": "code",
   "execution_count": 319,
   "metadata": {},
   "outputs": [],
   "source": [
    "from sklearn.model_selection import GridSearchCV\n",
    "from scipy import stats\n",
    "from sklearn.model_selection import RandomizedSearchCV, KFold\n",
    "from sklearn.metrics import f1_score"
   ]
  },
  {
   "cell_type": "code",
   "execution_count": 325,
   "metadata": {},
   "outputs": [],
   "source": [
    "clf_xgb = xgb.XGBClassifier(objective = 'binary:logistic')\n",
    "param_dist = {'n_estimators': [500,550,600],\n",
    "              'learning_rate': [0.07,0.05],\n",
    "              'max_depth': [3, 4, 5],\n",
    "              'colsample_bytree': [0.5,0.45]\n",
    "             }"
   ]
  },
  {
   "cell_type": "code",
   "execution_count": 326,
   "metadata": {},
   "outputs": [],
   "source": [
    "gsearch1 = GridSearchCV(\n",
    "    estimator = clf_xgb,\n",
    "    param_grid = param_dist, \n",
    "    scoring='f1',\n",
    "    n_jobs=-1,\n",
    "    verbose=1,\n",
    "    iid=False, \n",
    "    cv=5)"
   ]
  },
  {
   "cell_type": "code",
   "execution_count": 327,
   "metadata": {},
   "outputs": [
    {
     "name": "stdout",
     "output_type": "stream",
     "text": [
      "Fitting 5 folds for each of 36 candidates, totalling 180 fits\n"
     ]
    },
    {
     "name": "stderr",
     "output_type": "stream",
     "text": [
      "[Parallel(n_jobs=-1)]: Using backend LokyBackend with 4 concurrent workers.\n",
      "[Parallel(n_jobs=-1)]: Done  42 tasks      | elapsed:  9.3min\n",
      "[Parallel(n_jobs=-1)]: Done 180 out of 180 | elapsed: 37.1min finished\n",
      "/Users/grayangelo/opt/anaconda3/envs/learn-env/lib/python3.6/site-packages/sklearn/model_selection/_search.py:823: FutureWarning: The parameter 'iid' is deprecated in 0.22 and will be removed in 0.24.\n",
      "  \"removed in 0.24.\", FutureWarning\n"
     ]
    },
    {
     "data": {
      "text/plain": [
       "GridSearchCV(cv=5, error_score=nan,\n",
       "             estimator=XGBClassifier(base_score=0.5, booster='gbtree',\n",
       "                                     colsample_bylevel=1, colsample_bynode=1,\n",
       "                                     colsample_bytree=1, gamma=0,\n",
       "                                     learning_rate=0.1, max_delta_step=0,\n",
       "                                     max_depth=3, min_child_weight=1,\n",
       "                                     missing=None, n_estimators=100, n_jobs=1,\n",
       "                                     nthread=None, objective='binary:logistic',\n",
       "                                     random_state=0, reg_alpha=0, reg_lambda=1,\n",
       "                                     scale_pos_weight=1, seed=None, silent=None,\n",
       "                                     subsample=1, verbosity=1),\n",
       "             iid=False, n_jobs=-1,\n",
       "             param_grid={'colsample_bytree': [0.5, 0.45],\n",
       "                         'learning_rate': [0.07, 0.05], 'max_depth': [3, 4, 5],\n",
       "                         'n_estimators': [500, 550, 600]},\n",
       "             pre_dispatch='2*n_jobs', refit=True, return_train_score=False,\n",
       "             scoring='f1', verbose=1)"
      ]
     },
     "execution_count": 327,
     "metadata": {},
     "output_type": "execute_result"
    }
   ],
   "source": [
    "gsearch1.fit(X,y)"
   ]
  },
  {
   "cell_type": "markdown",
   "metadata": {},
   "source": [
    "### XGBOOST Best Results"
   ]
  },
  {
   "cell_type": "code",
   "execution_count": 323,
   "metadata": {},
   "outputs": [
    {
     "data": {
      "text/plain": [
       "{'colsample_bytree': 0.5,\n",
       " 'learning_rate': 0.07,\n",
       " 'max_depth': 5,\n",
       " 'n_estimators': 500}"
      ]
     },
     "execution_count": 323,
     "metadata": {},
     "output_type": "execute_result"
    }
   ],
   "source": [
    "gsearch1.best_params_"
   ]
  },
  {
   "cell_type": "code",
   "execution_count": 324,
   "metadata": {},
   "outputs": [
    {
     "data": {
      "text/plain": [
       "0.3093182881637747"
      ]
     },
     "execution_count": 324,
     "metadata": {},
     "output_type": "execute_result"
    }
   ],
   "source": [
    "gsearch1.best_score_"
   ]
  },
  {
   "cell_type": "code",
   "execution_count": 215,
   "metadata": {},
   "outputs": [],
   "source": [
    "# #GRIDSEARCH RANDOM FOREST\n",
    "# def random_forest_grid(X_train, X_test, y_train, y_test,estimators=[400,500], depth=[], features=[], cv=0):\n",
    "#     from sklearn.ensemble import RandomForestClassifier\n",
    "#     from sklearn.dummy import DummyClassifier\n",
    "#     from sklearn.metrics import accuracy_score, f1_score\n",
    "\n",
    "#     param_grid = { \n",
    "#     'n_estimators': estimators,\n",
    "#     'max_depth': depth,\n",
    "#     'criterion': ['entropy', 'gini'],\n",
    "#     'max_features' : features\n",
    "# }\n",
    "#     #create a grid search object and fit it to the data\n",
    "#     CV_rfc = GridSearchCV(RandomForestClassifier(), param_grid=param_grid,verbose=1, cv=cv,n_jobs=-1, scoring= 'f1')\n",
    "#     CV_rfc.fit(X_train, y_train)\n",
    "    \n",
    "#     ### Identify the best params \n",
    "#     print(CV_rfc.best_params_)\n",
    "\n",
    "\n",
    "#     #Identify the best score during fitting with cross-validation\n",
    "#     print(CV_rfc.best_score_)\n",
    "#     #predict on the test set\n",
    "\n",
    "#     rfc_pred = CV_rfc.best_estimator_.predict(X_test)\n",
    "#     # checking accuracy\n",
    "#     print('Test Accuracy score: ', accuracy_score(y_test, rfc_pred))\n",
    "\n",
    "\n",
    "#     # checking accuracy\n",
    "#     print('Test F1 score: ', f1_score(y_test, rfc_pred))"
   ]
  },
  {
   "cell_type": "code",
   "execution_count": null,
   "metadata": {},
   "outputs": [],
   "source": []
  }
 ],
 "metadata": {
  "kernelspec": {
   "display_name": "Python 3",
   "language": "python",
   "name": "python3"
  },
  "language_info": {
   "codemirror_mode": {
    "name": "ipython",
    "version": 3
   },
   "file_extension": ".py",
   "mimetype": "text/x-python",
   "name": "python",
   "nbconvert_exporter": "python",
   "pygments_lexer": "ipython3",
   "version": "3.6.9"
  },
  "toc": {
   "base_numbering": 1,
   "nav_menu": {},
   "number_sections": true,
   "sideBar": true,
   "skip_h1_title": false,
   "title_cell": "Table of Contents",
   "title_sidebar": "Contents",
   "toc_cell": false,
   "toc_position": {
    "height": "calc(100% - 180px)",
    "left": "10px",
    "top": "150px",
    "width": "349.091px"
   },
   "toc_section_display": true,
   "toc_window_display": false
  },
  "varInspector": {
   "cols": {
    "lenName": 16,
    "lenType": 16,
    "lenVar": 40
   },
   "kernels_config": {
    "python": {
     "delete_cmd_postfix": "",
     "delete_cmd_prefix": "del ",
     "library": "var_list.py",
     "varRefreshCmd": "print(var_dic_list())"
    },
    "r": {
     "delete_cmd_postfix": ") ",
     "delete_cmd_prefix": "rm(",
     "library": "var_list.r",
     "varRefreshCmd": "cat(var_dic_list()) "
    }
   },
   "position": {
    "height": "780.747px",
    "left": "1221.46px",
    "right": "20px",
    "top": "120px",
    "width": "358.542px"
   },
   "types_to_exclude": [
    "module",
    "function",
    "builtin_function_or_method",
    "instance",
    "_Feature"
   ],
   "window_display": false
  }
 },
 "nbformat": 4,
 "nbformat_minor": 2
}
